{
 "cells": [
  {
   "cell_type": "markdown",
   "metadata": {},
   "source": [
    "# Machine Learning Engineer Nanodegree\n",
    "## Supervised Learning\n",
    "## Project: Finding Donors for *CharityML*"
   ]
  },
  {
   "cell_type": "markdown",
   "metadata": {},
   "source": [
    "Welcome to the second project of the Machine Learning Engineer Nanodegree! In this notebook, some template code has already been provided for you, and it will be your job to implement the additional functionality necessary to successfully complete this project. Sections that begin with **'Implementation'** in the header indicate that the following block of code will require additional functionality which you must provide. Instructions will be provided for each section and the specifics of the implementation are marked in the code block with a `'TODO'` statement. Please be sure to read the instructions carefully!\n",
    "\n",
    "In addition to implementing code, there will be questions that you must answer which relate to the project and your implementation. Each section where you will answer a question is preceded by a **'Question X'** header. Carefully read each question and provide thorough answers in the following text boxes that begin with **'Answer:'**. Your project submission will be evaluated based on your answers to each of the questions and the implementation you provide.  \n",
    "\n",
    ">**Note:** Please specify WHICH VERSION OF PYTHON you are using when submitting this notebook. Code and Markdown cells can be executed using the **Shift + Enter** keyboard shortcut. In addition, Markdown cells can be edited by typically double-clicking the cell to enter edit mode."
   ]
  },
  {
   "cell_type": "markdown",
   "metadata": {},
   "source": [
    "## Getting Started\n",
    "\n",
    "In this project, you will employ several supervised algorithms of your choice to accurately model individuals' income using data collected from the 1994 U.S. Census. You will then choose the best candidate algorithm from preliminary results and further optimize this algorithm to best model the data. Your goal with this implementation is to construct a model that accurately predicts whether an individual makes more than $50,000. This sort of task can arise in a non-profit setting, where organizations survive on donations.  Understanding an individual's income can help a non-profit better understand how large of a donation to request, or whether or not they should reach out to begin with.  While it can be difficult to determine an individual's general income bracket directly from public sources, we can (as we will see) infer this value from other publically available features. \n",
    "\n",
    "The dataset for this project originates from the [UCI Machine Learning Repository](https://archive.ics.uci.edu/ml/datasets/Census+Income). The datset was donated by Ron Kohavi and Barry Becker, after being published in the article _\"Scaling Up the Accuracy of Naive-Bayes Classifiers: A Decision-Tree Hybrid\"_. You can find the article by Ron Kohavi [online](https://www.aaai.org/Papers/KDD/1996/KDD96-033.pdf). The data we investigate here consists of small changes to the original dataset, such as removing the `'fnlwgt'` feature and records with missing or ill-formatted entries."
   ]
  },
  {
   "cell_type": "markdown",
   "metadata": {},
   "source": [
    "----\n",
    "## Exploring the Data\n",
    "Run the code cell below to load necessary Python libraries and load the census data. Note that the last column from this dataset, `'income'`, will be our target label (whether an individual makes more than, or at most, $50,000 annually). All other columns are features about each individual in the census database."
   ]
  },
  {
   "cell_type": "code",
   "execution_count": 71,
   "metadata": {},
   "outputs": [
    {
     "data": {
      "text/html": [
       "<div>\n",
       "<style>\n",
       "    .dataframe thead tr:only-child th {\n",
       "        text-align: right;\n",
       "    }\n",
       "\n",
       "    .dataframe thead th {\n",
       "        text-align: left;\n",
       "    }\n",
       "\n",
       "    .dataframe tbody tr th {\n",
       "        vertical-align: top;\n",
       "    }\n",
       "</style>\n",
       "<table border=\"1\" class=\"dataframe\">\n",
       "  <thead>\n",
       "    <tr style=\"text-align: right;\">\n",
       "      <th></th>\n",
       "      <th>age</th>\n",
       "      <th>workclass</th>\n",
       "      <th>education_level</th>\n",
       "      <th>education-num</th>\n",
       "      <th>marital-status</th>\n",
       "      <th>occupation</th>\n",
       "      <th>relationship</th>\n",
       "      <th>race</th>\n",
       "      <th>sex</th>\n",
       "      <th>capital-gain</th>\n",
       "      <th>capital-loss</th>\n",
       "      <th>hours-per-week</th>\n",
       "      <th>native-country</th>\n",
       "      <th>income</th>\n",
       "    </tr>\n",
       "  </thead>\n",
       "  <tbody>\n",
       "    <tr>\n",
       "      <th>0</th>\n",
       "      <td>39</td>\n",
       "      <td>State-gov</td>\n",
       "      <td>Bachelors</td>\n",
       "      <td>13.0</td>\n",
       "      <td>Never-married</td>\n",
       "      <td>Adm-clerical</td>\n",
       "      <td>Not-in-family</td>\n",
       "      <td>White</td>\n",
       "      <td>Male</td>\n",
       "      <td>2174.0</td>\n",
       "      <td>0.0</td>\n",
       "      <td>40.0</td>\n",
       "      <td>United-States</td>\n",
       "      <td>&lt;=50K</td>\n",
       "    </tr>\n",
       "  </tbody>\n",
       "</table>\n",
       "</div>"
      ],
      "text/plain": [
       "   age   workclass education_level  education-num  marital-status  \\\n",
       "0   39   State-gov       Bachelors           13.0   Never-married   \n",
       "\n",
       "      occupation    relationship    race    sex  capital-gain  capital-loss  \\\n",
       "0   Adm-clerical   Not-in-family   White   Male        2174.0           0.0   \n",
       "\n",
       "   hours-per-week  native-country income  \n",
       "0            40.0   United-States  <=50K  "
      ]
     },
     "metadata": {},
     "output_type": "display_data"
    }
   ],
   "source": [
    "# Import libraries necessary for this project\n",
    "import numpy as np\n",
    "import pandas as pd\n",
    "from time import time\n",
    "from IPython.display import display # Allows the use of display() for DataFrames\n",
    "\n",
    "# Import supplementary visualization code visuals.py\n",
    "import visuals as vs\n",
    "\n",
    "# Pretty display for notebooks\n",
    "%matplotlib inline\n",
    "\n",
    "# Load the Census dataset\n",
    "data = pd.read_csv(\"census.csv\")\n",
    "\n",
    "# Success - Display the first record\n",
    "display(data.head(n=1))"
   ]
  },
  {
   "cell_type": "markdown",
   "metadata": {},
   "source": [
    "### Implementation: Data Exploration\n",
    "A cursory investigation of the dataset will determine how many individuals fit into either group, and will tell us about the percentage of these individuals making more than \\$50,000. In the code cell below, you will need to compute the following:\n",
    "- The total number of records, `'n_records'`\n",
    "- The number of individuals making more than \\$50,000 annually, `'n_greater_50k'`.\n",
    "- The number of individuals making at most \\$50,000 annually, `'n_at_most_50k'`.\n",
    "- The percentage of individuals making more than \\$50,000 annually, `'greater_percent'`.\n",
    "\n",
    "** HINT: ** You may need to look at the table above to understand how the `'income'` entries are formatted. "
   ]
  },
  {
   "cell_type": "code",
   "execution_count": 7,
   "metadata": {},
   "outputs": [
    {
     "name": "stdout",
     "output_type": "stream",
     "text": [
      "Total number of records: 45222\n",
      "Individuals making more than $50,000: 11208\n",
      "Individuals making at most $50,000: 34014\n",
      "Percentage of individuals making more than $50,000: 0.25%\n"
     ]
    }
   ],
   "source": [
    "# TODO: Total number of records\n",
    "n_records = data.shape[0]\n",
    "\n",
    "# TODO: Number of records where individual's income is more than $50,000\n",
    "n_greater_50k = np.count_nonzero(data['income'] == '>50K')\n",
    "\n",
    "# TODO: Number of records where individual's income is at most $50,000\n",
    "n_at_most_50k = np.count_nonzero(data['income'] == '<=50K')\n",
    "\n",
    "# TODO: Percentage of individuals whose income is more than $50,000\n",
    "greater_percent = n_greater_50k / n_records\n",
    "\n",
    "# print(the results\n",
    "print(\"Total number of records: {}\".format(n_records))\n",
    "print(\"Individuals making more than $50,000: {}\".format(n_greater_50k))\n",
    "print(\"Individuals making at most $50,000: {}\".format(n_at_most_50k))\n",
    "print(\"Percentage of individuals making more than $50,000: {:.2f}%\".format(greater_percent))"
   ]
  },
  {
   "cell_type": "markdown",
   "metadata": {},
   "source": [
    "** Featureset Exploration **\n",
    "\n",
    "* **age**: continuous. \n",
    "* **workclass**: Private, Self-emp-not-inc, Self-emp-inc, Federal-gov, Local-gov, State-gov, Without-pay, Never-worked. \n",
    "* **education**: Bachelors, Some-college, 11th, HS-grad, Prof-school, Assoc-acdm, Assoc-voc, 9th, 7th-8th, 12th, Masters, 1st-4th, 10th, Doctorate, 5th-6th, Preschool. \n",
    "* **education-num**: continuous. \n",
    "* **marital-status**: Married-civ-spouse, Divorced, Never-married, Separated, Widowed, Married-spouse-absent, Married-AF-spouse. \n",
    "* **occupation**: Tech-support, Craft-repair, Other-service, Sales, Exec-managerial, Prof-specialty, Handlers-cleaners, Machine-op-inspct, Adm-clerical, Farming-fishing, Transport-moving, Priv-house-serv, Protective-serv, Armed-Forces. \n",
    "* **relationship**: Wife, Own-child, Husband, Not-in-family, Other-relative, Unmarried. \n",
    "* **race**: Black, White, Asian-Pac-Islander, Amer-Indian-Eskimo, Other. \n",
    "* **sex**: Female, Male. \n",
    "* **capital-gain**: continuous. \n",
    "* **capital-loss**: continuous. \n",
    "* **hours-per-week**: continuous. \n",
    "* **native-country**: United-States, Cambodia, England, Puerto-Rico, Canada, Germany, Outlying-US(Guam-USVI-etc), India, Japan, Greece, South, China, Cuba, Iran, Honduras, Philippines, Italy, Poland, Jamaica, Vietnam, Mexico, Portugal, Ireland, France, Dominican-Republic, Laos, Ecuador, Taiwan, Haiti, Columbia, Hungary, Guatemala, Nicaragua, Scotland, Thailand, Yugoslavia, El-Salvador, Trinadad&Tobago, Peru, Hong, Holand-Netherlands."
   ]
  },
  {
   "cell_type": "markdown",
   "metadata": {},
   "source": [
    "----\n",
    "## Preparing the Data\n",
    "Before data can be used as input for machine learning algorithms, it often must be cleaned, formatted, and restructured — this is typically known as **preprocessing**. Fortunately, for this dataset, there are no invalid or missing entries we must deal with, however, there are some qualities about certain features that must be adjusted. This preprocessing can help tremendously with the outcome and predictive power of nearly all learning algorithms."
   ]
  },
  {
   "cell_type": "markdown",
   "metadata": {},
   "source": [
    "### Transforming Skewed Continuous Features\n",
    "A dataset may sometimes contain at least one feature whose values tend to lie near a single number, but will also have a non-trivial number of vastly larger or smaller values than that single number.  Algorithms can be sensitive to such distributions of values and can underperform if the range is not properly normalized. With the census dataset two features fit this description: '`capital-gain'` and `'capital-loss'`. \n",
    "\n",
    "Run the code cell below to plot a histogram of these two features. Note the range of the values present and how they are distributed."
   ]
  },
  {
   "cell_type": "code",
   "execution_count": 8,
   "metadata": {},
   "outputs": [
    {
     "data": {
      "image/png": "iVBORw0KGgoAAAANSUhEUgAAAxAAAAF2CAYAAAD+y36TAAAABHNCSVQICAgIfAhkiAAAAAlwSFlz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\n2gQEAADQJiAAAIA2AQEAALQJCAAAoO0Ga7UEP7pgqRcAAAAASUVORK5CYII=\n",
      "text/plain": [
       "<matplotlib.figure.Figure at 0x7ff78c550fd0>"
      ]
     },
     "metadata": {},
     "output_type": "display_data"
    }
   ],
   "source": [
    "# Split the data into features and target label\n",
    "income_raw = data['income']\n",
    "features_raw = data.drop('income', axis = 1)\n",
    "\n",
    "# Visualize skewed continuous features of original data\n",
    "vs.distribution(data)"
   ]
  },
  {
   "cell_type": "markdown",
   "metadata": {},
   "source": [
    "For highly-skewed feature distributions such as `'capital-gain'` and `'capital-loss'`, it is common practice to apply a <a href=\"https://en.wikipedia.org/wiki/Data_transformation_(statistics)\">logarithmic transformation</a> on the data so that the very large and very small values do not negatively affect the performance of a learning algorithm. Using a logarithmic transformation significantly reduces the range of values caused by outliers. Care must be taken when applying this transformation however: The logarithm of `0` is undefined, so we must translate the values by a small amount above `0` to apply the the logarithm successfully.\n",
    "\n",
    "Run the code cell below to perform a transformation on the data and visualize the results. Again, note the range of values and how they are distributed. "
   ]
  },
  {
   "cell_type": "code",
   "execution_count": 9,
   "metadata": {},
   "outputs": [
    {
     "data": {
      "image/png": "iVBORw0KGgoAAAANSUhEUgAAAxAAAAF2CAYAAAD+y36TAAAABHNCSVQICAgIfAhkiAAAAAlwSFlz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\nlt95AAAAAElFTkSuQmCC\n",
      "text/plain": [
       "<matplotlib.figure.Figure at 0x7ff78bbb7860>"
      ]
     },
     "metadata": {},
     "output_type": "display_data"
    }
   ],
   "source": [
    "# Log-transform the skewed features\n",
    "skewed = ['capital-gain', 'capital-loss']\n",
    "features_log_transformed = pd.DataFrame(data = features_raw)\n",
    "features_log_transformed[skewed] = features_raw[skewed].apply(lambda x: np.log(x + 1))\n",
    "\n",
    "# Visualize the new log distributions\n",
    "vs.distribution(features_log_transformed, transformed = True)"
   ]
  },
  {
   "cell_type": "markdown",
   "metadata": {},
   "source": [
    "### Normalizing Numerical Features\n",
    "In addition to performing transformations on features that are highly skewed, it is often good practice to perform some type of scaling on numerical features. Applying a scaling to the data does not change the shape of each feature's distribution (such as `'capital-gain'` or `'capital-loss'` above); however, normalization ensures that each feature is treated equally when applying supervised learners. Note that once scaling is applied, observing the data in its raw form will no longer have the same original meaning, as exampled below.\n",
    "\n",
    "Run the code cell below to normalize each numerical feature. We will use [`sklearn.preprocessing.MinMaxScaler`](http://scikit-learn.org/stable/modules/generated/sklearn.preprocessing.MinMaxScaler.html) for this."
   ]
  },
  {
   "cell_type": "code",
   "execution_count": 73,
   "metadata": {},
   "outputs": [
    {
     "data": {
      "text/html": [
       "<div>\n",
       "<style>\n",
       "    .dataframe thead tr:only-child th {\n",
       "        text-align: right;\n",
       "    }\n",
       "\n",
       "    .dataframe thead th {\n",
       "        text-align: left;\n",
       "    }\n",
       "\n",
       "    .dataframe tbody tr th {\n",
       "        vertical-align: top;\n",
       "    }\n",
       "</style>\n",
       "<table border=\"1\" class=\"dataframe\">\n",
       "  <thead>\n",
       "    <tr style=\"text-align: right;\">\n",
       "      <th></th>\n",
       "      <th>age</th>\n",
       "      <th>workclass</th>\n",
       "      <th>education_level</th>\n",
       "      <th>education-num</th>\n",
       "      <th>marital-status</th>\n",
       "      <th>occupation</th>\n",
       "      <th>relationship</th>\n",
       "      <th>race</th>\n",
       "      <th>sex</th>\n",
       "      <th>capital-gain</th>\n",
       "      <th>capital-loss</th>\n",
       "      <th>hours-per-week</th>\n",
       "      <th>native-country</th>\n",
       "    </tr>\n",
       "  </thead>\n",
       "  <tbody>\n",
       "    <tr>\n",
       "      <th>0</th>\n",
       "      <td>0.30137</td>\n",
       "      <td>State-gov</td>\n",
       "      <td>Bachelors</td>\n",
       "      <td>0.8</td>\n",
       "      <td>Never-married</td>\n",
       "      <td>Adm-clerical</td>\n",
       "      <td>Not-in-family</td>\n",
       "      <td>White</td>\n",
       "      <td>Male</td>\n",
       "      <td>0.667492</td>\n",
       "      <td>0.0</td>\n",
       "      <td>0.397959</td>\n",
       "      <td>United-States</td>\n",
       "    </tr>\n",
       "  </tbody>\n",
       "</table>\n",
       "</div>"
      ],
      "text/plain": [
       "       age   workclass education_level  education-num  marital-status  \\\n",
       "0  0.30137   State-gov       Bachelors            0.8   Never-married   \n",
       "\n",
       "      occupation    relationship    race    sex  capital-gain  capital-loss  \\\n",
       "0   Adm-clerical   Not-in-family   White   Male      0.667492           0.0   \n",
       "\n",
       "   hours-per-week  native-country  \n",
       "0        0.397959   United-States  "
      ]
     },
     "metadata": {},
     "output_type": "display_data"
    }
   ],
   "source": [
    "# Import sklearn.preprocessing.StandardScaler\n",
    "from sklearn.preprocessing import MinMaxScaler\n",
    "\n",
    "# Initialize a scaler, then apply it to the features\n",
    "scaler = MinMaxScaler() # default=(0, 1)\n",
    "numerical = ['age', 'education-num', 'capital-gain', 'capital-loss', 'hours-per-week']\n",
    "\n",
    "features_log_minmax_transform = pd.DataFrame(data = features_log_transformed)\n",
    "features_log_minmax_transform[numerical] = scaler.fit_transform(features_log_transformed[numerical])\n",
    "\n",
    "# Show an example of a record with scaling applied\n",
    "display(features_log_minmax_transform.head(n = 1))"
   ]
  },
  {
   "cell_type": "markdown",
   "metadata": {},
   "source": [
    "### Implementation: Data Preprocessing\n",
    "\n",
    "From the table in **Exploring the Data** above, we can see there are several features for each record that are non-numeric. Typically, learning algorithms expect input to be numeric, which requires that non-numeric features (called *categorical variables*) be converted. One popular way to convert categorical variables is by using the **one-hot encoding** scheme. One-hot encoding creates a _\"dummy\"_ variable for each possible category of each non-numeric feature. For example, assume `someFeature` has three possible entries: `A`, `B`, or `C`. We then encode this feature into `someFeature_A`, `someFeature_B` and `someFeature_C`.\n",
    "\n",
    "|   | someFeature |                    | someFeature_A | someFeature_B | someFeature_C |\n",
    "| :-: | :-: |                            | :-: | :-: | :-: |\n",
    "| 0 |  B  |  | 0 | 1 | 0 |\n",
    "| 1 |  C  | ----> one-hot encode ----> | 0 | 0 | 1 |\n",
    "| 2 |  A  |  | 1 | 0 | 0 |\n",
    "\n",
    "Additionally, as with the non-numeric features, we need to convert the non-numeric target label, `'income'` to numerical values for the learning algorithm to work. Since there are only two possible categories for this label (\"<=50K\" and \">50K\"), we can avoid using one-hot encoding and simply encode these two categories as `0` and `1`, respectively. In code cell below, you will need to implement the following:\n",
    " - Use [`pandas.get_dummies()`](http://pandas.pydata.org/pandas-docs/stable/generated/pandas.get_dummies.html?highlight=get_dummies#pandas.get_dummies) to perform one-hot encoding on the `'features_log_minmax_transform'` data.\n",
    " - Convert the target label `'income_raw'` to numerical entries.\n",
    "   - Set records with \"<=50K\" to `0` and records with \">50K\" to `1`."
   ]
  },
  {
   "cell_type": "code",
   "execution_count": 74,
   "metadata": {},
   "outputs": [
    {
     "name": "stdout",
     "output_type": "stream",
     "text": [
      "103 total features after one-hot encoding.\n"
     ]
    }
   ],
   "source": [
    "# TODO: One-hot encode the 'features_log_minmax_transform' data using pandas.get_dummies()\n",
    "features_final = pd.get_dummies(features_log_minmax_transform)\n",
    "\n",
    "# TODO: Encode the 'income_raw' data to numerical values\n",
    "income = income_raw.apply(lambda x: 1 if x == \">50K\" else 0)\n",
    "\n",
    "# Print the number of features after one-hot encoding\n",
    "encoded = list(features_final.columns)\n",
    "print(\"{} total features after one-hot encoding.\".format(len(encoded)))\n",
    "\n",
    "# Uncomment the following line to see the encoded feature names\n",
    "# print(encoded)"
   ]
  },
  {
   "cell_type": "markdown",
   "metadata": {},
   "source": [
    "### Shuffle and Split Data\n",
    "Now all _categorical variables_ have been converted into numerical features, and all numerical features have been normalized. As always, we will now split the data (both features and their labels) into training and test sets. 80% of the data will be used for training and 20% for testing.\n",
    "\n",
    "Run the code cell below to perform this split."
   ]
  },
  {
   "cell_type": "code",
   "execution_count": 75,
   "metadata": {},
   "outputs": [
    {
     "name": "stdout",
     "output_type": "stream",
     "text": [
      "Training set has 36177 samples.\n",
      "Testing set has 9045 samples.\n"
     ]
    }
   ],
   "source": [
    "# Import train_test_split\n",
    "from sklearn.cross_validation import train_test_split\n",
    "\n",
    "# Split the 'features' and 'income' data into training and testing sets\n",
    "X_train, X_test, y_train, y_test = train_test_split(features_final, \n",
    "                                                    income, \n",
    "                                                    test_size = 0.2, \n",
    "                                                    random_state = 0)\n",
    "\n",
    "# Show the results of the split\n",
    "print(\"Training set has {} samples.\".format(X_train.shape[0]))\n",
    "print(\"Testing set has {} samples.\".format(X_test.shape[0]))"
   ]
  },
  {
   "cell_type": "markdown",
   "metadata": {},
   "source": [
    "----\n",
    "## Evaluating Model Performance\n",
    "In this section, we will investigate four different algorithms, and determine which is best at modeling the data. Three of these algorithms will be supervised learners of your choice, and the fourth algorithm is known as a *naive predictor*."
   ]
  },
  {
   "cell_type": "markdown",
   "metadata": {},
   "source": [
    "### Metrics and the Naive Predictor\n",
    "*CharityML*, equipped with their research, knows individuals that make more than \\$50,000 are most likely to donate to their charity. Because of this, *CharityML* is particularly interested in predicting who makes more than \\$50,000 accurately. It would seem that using **accuracy** as a metric for evaluating a particular model's performace would be appropriate. Additionally, identifying someone that *does not* make more than \\$50,000 as someone who does would be detrimental to *CharityML*, since they are looking to find individuals willing to donate. Therefore, a model's ability to precisely predict those that make more than \\$50,000 is *more important* than the model's ability to **recall** those individuals. We can use **F-beta score** as a metric that considers both precision and recall:\n",
    "\n",
    "$$ F_{\\beta} = (1 + \\beta^2) \\cdot \\frac{precision \\cdot recall}{\\left( \\beta^2 \\cdot precision \\right) + recall} $$\n",
    "\n",
    "In particular, when $\\beta = 0.5$, more emphasis is placed on precision. This is called the **F$_{0.5}$ score** (or F-score for simplicity).\n",
    "\n",
    "Looking at the distribution of classes (those who make at most \\$50,000, and those who make more), it's clear most individuals do not make more than \\$50,000. This can greatly affect **accuracy**, since we could simply say *\"this person does not make more than \\$50,000\"* and generally be right, without ever looking at the data! Making such a statement would be called **naive**, since we have not considered any information to substantiate the claim. It is always important to consider the *naive prediction* for your data, to help establish a benchmark for whether a model is performing well. That been said, using that prediction would be pointless: If we predicted all people made less than \\$50,000, *CharityML* would identify no one as donors. \n",
    "\n",
    "\n",
    "#### Note: Recap of accuracy, precision, recall\n",
    "\n",
    "** Accuracy ** measures how often the classifier makes the correct prediction. It’s the ratio of the number of correct predictions to the total number of predictions (the number of test data points).\n",
    "\n",
    "** Precision ** tells us what proportion of messages we classified as spam, actually were spam.\n",
    "It is a ratio of true positives(words classified as spam, and which are actually spam) to all positives(all words classified as spam, irrespective of whether that was the correct classificatio), in other words it is the ratio of\n",
    "\n",
    "`[True Positives/(True Positives + False Positives)]`\n",
    "\n",
    "** Recall(sensitivity)** tells us what proportion of messages that actually were spam were classified by us as spam.\n",
    "It is a ratio of true positives(words classified as spam, and which are actually spam) to all the words that were actually spam, in other words it is the ratio of\n",
    "\n",
    "`[True Positives/(True Positives + False Negatives)]`\n",
    "\n",
    "For classification problems that are skewed in their classification distributions like in our case, for example if we had a 100 text messages and only 2 were spam and the rest 98 weren't, accuracy by itself is not a very good metric. We could classify 90 messages as not spam(including the 2 that were spam but we classify them as not spam, hence they would be false negatives) and 10 as spam(all 10 false positives) and still get a reasonably good accuracy score. For such cases, precision and recall come in very handy. These two metrics can be combined to get the F1 score, which is weighted average(harmonic mean) of the precision and recall scores. This score can range from 0 to 1, with 1 being the best possible F1 score(we take the harmonic mean as we are dealing with ratios)."
   ]
  },
  {
   "cell_type": "markdown",
   "metadata": {},
   "source": [
    "### Question 1 - Naive Predictor Performace\n",
    "* If we chose a model that always predicted an individual made more than $50,000, what would  that model's accuracy and F-score be on this dataset? You must use the code cell below and assign your results to `'accuracy'` and `'fscore'` to be used later.\n",
    "\n",
    "** Please note ** that the the purpose of generating a naive predictor is simply to show what a base model without any intelligence would look like. In the real world, ideally your base model would be either the results of a previous model or could be based on a research paper upon which you are looking to improve. When there is no benchmark model set, getting a result better than random choice is a place you could start from.\n",
    "\n",
    "** HINT: ** \n",
    "\n",
    "* When we have a model that always predicts '1' (i.e. the individual makes more than 50k) then our model will have no True Negatives(TN) or False Negatives(FN) as we are not making any negative('0' value) predictions. Therefore our Accuracy in this case becomes the same as our Precision(True Positives/(True Positives + False Positives)) as every prediction that we have made with value '1' that should have '0' becomes a False Positive; therefore our denominator in this case is the total number of records we have in total. \n",
    "* Our Recall score(True Positives/(True Positives + False Negatives)) in this setting becomes 1 as we have no False Negatives."
   ]
  },
  {
   "cell_type": "code",
   "execution_count": 76,
   "metadata": {
    "scrolled": true
   },
   "outputs": [
    {
     "name": "stdout",
     "output_type": "stream",
     "text": [
      "Naive Predictor: [Accuracy score: 0.2478, F-score: 0.2917]\n"
     ]
    }
   ],
   "source": [
    "'''\n",
    "TP = np.sum(income) # Counting the ones as this is the naive case. Note that 'income' is the 'income_raw' data \n",
    "encoded to numerical values done in the data preprocessing step.\n",
    "FP = income.count() - TP # Specific to the naive case\n",
    "\n",
    "TN = 0 # No predicted negatives in the naive case\n",
    "FN = 0 # No predicted negatives in the naive case\n",
    "'''\n",
    "# TODO: Calculate accuracy, precision and recall\n",
    "TP = np.sum(income) # The value in come is whethrt 0 or 1, so that sum(income) is the total number of >50K.\n",
    "FP = income.count() - TP\n",
    "TN = 0\n",
    "FN = 0\n",
    "accuracy = (TP + FN) /(TP + FP + TN + FN) \n",
    "recall = TP/(TP + FN)\n",
    "precision = TP / (TP + FP)\n",
    "\n",
    "# TODO: Calculate F-score using the formula above for beta = 0.5 and correct values for precision and recall.\n",
    "beta = 0.5\n",
    "fscore = (1.0 + beta**2.0) * (precision * recall) / ((beta**2 * precision) + recall)\n",
    "\n",
    "# Print the results \n",
    "print(\"Naive Predictor: [Accuracy score: {:.4f}, F-score: {:.4f}]\".format(accuracy, fscore))"
   ]
  },
  {
   "cell_type": "code",
   "execution_count": 77,
   "metadata": {},
   "outputs": [
    {
     "name": "stdout",
     "output_type": "stream",
     "text": [
      "11208 34014 0 0\n"
     ]
    }
   ],
   "source": [
    "print(TP, FP, TN, FN)"
   ]
  },
  {
   "cell_type": "markdown",
   "metadata": {},
   "source": [
    "###  Supervised Learning Models\n",
    "**The following are some of the supervised learning models that are currently available in** [`scikit-learn`](http://scikit-learn.org/stable/supervised_learning.html) **that you may choose from:**\n",
    "- Gaussian Naive Bayes (GaussianNB)\n",
    "- Decision Trees\n",
    "- Ensemble Methods (Bagging, AdaBoost, Random Forest, Gradient Boosting)\n",
    "- K-Nearest Neighbors (KNeighbors)\n",
    "- Stochastic Gradient Descent Classifier (SGDC)\n",
    "- Support Vector Machines (SVM)\n",
    "- Logistic Regression"
   ]
  },
  {
   "cell_type": "markdown",
   "metadata": {},
   "source": [
    "### Question 2 - Model Application\n",
    "List three of the supervised learning models above that are appropriate for this problem that you will test on the census data. For each model chosen\n",
    "\n",
    "- Describe one real-world application in industry where the model can be applied. \n",
    "- What are the strengths of the model; when does it perform well?\n",
    "- What are the weaknesses of the model; when does it perform poorly?\n",
    "- What makes this model a good candidate for the problem, given what you know about the data?\n",
    "\n",
    "** HINT: **\n",
    "\n",
    "Structure your answer in the same format as above^, with 4 parts for each of the three models you pick. Please include references with your answer."
   ]
  },
  {
   "cell_type": "markdown",
   "metadata": {},
   "source": [
    "**Answer: **\n",
    "\n",
    "1. Gaussian Naive Bayes\n",
    "    * Examples: Spams classification.\n",
    "    * Strength: Only need a few parameters to train rather than a large set of parameters.\n",
    "    * Weakness: Because the classification surpposes every feature is independent so that it can not perform well on large set of features.\n",
    "    * We need to seperate the data into two classifications, so that the data can be well used using gaussian calssifier.\n",
    "    TODO: If the data fit the gaussian model, then the gaussain beyes should be perform well or not?\n",
    "2. Decision Tree\n",
    "    * Finacial analysis. CART\n",
    "    * Strength: Simple to understand.\n",
    "    * Weakness: It is not robust as the others.\n",
    "    * We have features that is good to be seperated into different stems.\n",
    "3. Support Vector Machines(SVM)\n",
    "    * Examples: "
   ]
  },
  {
   "cell_type": "markdown",
   "metadata": {},
   "source": [
    "### Implementation - Creating a Training and Predicting Pipeline\n",
    "To properly evaluate the performance of each model you've chosen, it's important that you create a training and predicting pipeline that allows you to quickly and effectively train models using various sizes of training data and perform predictions on the testing data. Your implementation here will be used in the following section.\n",
    "In the code block below, you will need to implement the following:\n",
    " - Import `fbeta_score` and `accuracy_score` from [`sklearn.metrics`](http://scikit-learn.org/stable/modules/classes.html#sklearn-metrics-metrics).\n",
    " - Fit the learner to the sampled training data and record the training time.\n",
    " - Perform predictions on the test data `X_test`, and also on the first 300 training points `X_train[:300]`.\n",
    "   - Record the total prediction time.\n",
    " - Calculate the accuracy score for both the training subset and testing set.\n",
    " - Calculate the F-score for both the training subset and testing set.\n",
    "   - Make sure that you set the `beta` parameter!"
   ]
  },
  {
   "cell_type": "code",
   "execution_count": 78,
   "metadata": {
    "collapsed": true
   },
   "outputs": [],
   "source": [
    "# TODO: Import two metrics from sklearn - fbeta_score and accuracy_score\n",
    "from sklearn.metrics import fbeta_score, accuracy_score\n",
    "\n",
    "def train_predict(learner, sample_size, X_train, y_train, X_test, y_test): \n",
    "    '''\n",
    "    inputs:\n",
    "       - learner: the learning algorithm to be trained and predicted on\n",
    "       - sample_size: the size of samples (number) to be drawn from training set\n",
    "       - X_train: features training set\n",
    "       - y_train: income training set\n",
    "       - X_test: features testing set\n",
    "       - y_test: income testing set\n",
    "    '''\n",
    "    \n",
    "    results = {}\n",
    "    \n",
    "    # TODO: Fit the learner to the training data using slicing with 'sample_size' using .fit(training_features[:], training_labels[:])\n",
    "    start = time() # Get start time\n",
    "    learner.fit(X_train[:sample_size], y_train[:sample_size])\n",
    "    end = time() # Get end time\n",
    "    \n",
    "    # TODO: Calculate the training time\n",
    "    results['train_time'] = end - start\n",
    "        \n",
    "    # TODO: Get the predictions on the test set(X_test),\n",
    "    #       then get predictions on the first 300 training samples(X_train) using .predict()\n",
    "    start = time() # Get start time\n",
    "    predictions_test = learner.predict(X_test)\n",
    "    predictions_train = learner.predict(X_train[:300])\n",
    "    end = time() # Get end time\n",
    "    \n",
    "    # TODO: Calculate the total prediction time\n",
    "    results['pred_time'] = end - start\n",
    "            \n",
    "    # TODO: Compute accuracy on the first 300 training samples which is y_train[:300]\n",
    "    results['acc_train'] = accuracy_score(y_train[:300], predictions_train)\n",
    "        \n",
    "    # TODO: Compute accuracy on test set using accuracy_score()\n",
    "    results['acc_test'] = accuracy_score(y_test, predictions_test)\n",
    "    \n",
    "    # TODO: Compute F-score on the the first 300 training samples using fbeta_score()\n",
    "    results['f_train'] = fbeta_score(y_train[:300], predictions_train, beta=0.5)\n",
    "        \n",
    "    # TODO: Compute F-score on the test set which is y_test\n",
    "    results['f_test'] = fbeta_score(y_test, predictions_test, beta=0.5)\n",
    "       \n",
    "    # Success\n",
    "    print(\"{} trained on {} samples.\".format(learner.__class__.__name__, sample_size))\n",
    "        \n",
    "    # Return the results\n",
    "    return results"
   ]
  },
  {
   "cell_type": "markdown",
   "metadata": {},
   "source": [
    "### Implementation: Initial Model Evaluation\n",
    "In the code cell, you will need to implement the following:\n",
    "- Import the three supervised learning models you've discussed in the previous section.\n",
    "- Initialize the three models and store them in `'clf_A'`, `'clf_B'`, and `'clf_C'`.\n",
    "  - Use a `'random_state'` for each model you use, if provided.\n",
    "  - **Note:** Use the default settings for each model — you will tune one specific model in a later section.\n",
    "- Calculate the number of records equal to 1%, 10%, and 100% of the training data.\n",
    "  - Store those values in `'samples_1'`, `'samples_10'`, and `'samples_100'` respectively.\n",
    "\n",
    "**Note:** Depending on which algorithms you chose, the following implementation may take some time to run!"
   ]
  },
  {
   "cell_type": "code",
   "execution_count": 79,
   "metadata": {
    "scrolled": false
   },
   "outputs": [
    {
     "name": "stdout",
     "output_type": "stream",
     "text": [
      "GradientBoostingClassifier trained on 361 samples.\n",
      "GradientBoostingClassifier trained on 3617 samples.\n",
      "GradientBoostingClassifier trained on 36177 samples.\n",
      "AdaBoostClassifier trained on 361 samples.\n",
      "AdaBoostClassifier trained on 3617 samples.\n",
      "AdaBoostClassifier trained on 36177 samples.\n"
     ]
    },
    {
     "name": "stderr",
     "output_type": "stream",
     "text": [
      "/home/yoshie/anaconda3/lib/python3.6/site-packages/sklearn/neural_network/multilayer_perceptron.py:563: ConvergenceWarning: Stochastic Optimizer: Maximum iterations reached and the optimization hasn't converged yet.\n",
      "  % (), ConvergenceWarning)\n"
     ]
    },
    {
     "name": "stdout",
     "output_type": "stream",
     "text": [
      "MLPClassifier trained on 361 samples.\n",
      "MLPClassifier trained on 3617 samples.\n",
      "MLPClassifier trained on 36177 samples.\n"
     ]
    },
    {
     "data": {
      "image/png": "iVBORw0KGgoAAAANSUhEUgAAAxAAAAIuCAYAAAAv/u6UAAAABHNCSVQICAgIfAhkiAAAAAlwSFlz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\nIiKisv8P/eHCCNjO2koAAAAASUVORK5CYII=\n",
      "text/plain": [
       "<matplotlib.figure.Figure at 0x7ff781e86a90>"
      ]
     },
     "metadata": {},
     "output_type": "display_data"
    }
   ],
   "source": [
    "# TODO: Import the three supervised learning models from sklearn\n",
    "from sklearn.naive_bayes import GaussianNB\n",
    "from sklearn.tree import DecisionTreeClassifier\n",
    "from sklearn.svm import LinearSVC\n",
    "import visuals as vs\n",
    "from sklearn.svm import SVC\n",
    "from sklearn.ensemble import RandomForestClassifier, AdaBoostClassifier, BaggingClassifier, GradientBoostingClassifier\n",
    "from sklearn.linear_model import SGDClassifier, LogisticRegression\n",
    "from sklearn.neighbors import KNeighborsClassifier\n",
    "from sklearn.neural_network import MLPClassifier\n",
    "\n",
    "\n",
    "# TODO: Initialize the three models\n",
    "clf_A = GradientBoostingClassifier(random_state=0)\n",
    "clf_B = AdaBoostClassifier(random_state=0)\n",
    "clf_C = MLPClassifier()\n",
    "\n",
    "\n",
    "# TODO: Calculate the number of samples for 1%, 10%, and 100% of the training data\n",
    "# HINT: samples_100 is the entire training set i.e. len(y_train)\n",
    "# HINT: samples_10 is 10% of samples_100\n",
    "# HINT: samples_1 is 1% of samples_100\n",
    "samples_100 = len(y_train)\n",
    "samples_10 = int(0.1 * samples_100)\n",
    "samples_1 = int(0.1 * samples_10)\n",
    "\n",
    "# Collect results on the learners\n",
    "results = {}\n",
    "for clf in [clf_A, clf_B, clf_C]:\n",
    "    clf_name = clf.__class__.__name__\n",
    "    results[clf_name] = {}\n",
    "    for i, samples in enumerate([samples_1, samples_10, samples_100]):\n",
    "        results[clf_name][i] = \\\n",
    "        train_predict(clf, samples, X_train, y_train, X_test, y_test)\n",
    "\n",
    "# Run metrics visualization for the three supervised learning models chosen\n",
    "vs.evaluate(results, accuracy, fscore)"
   ]
  },
  {
   "cell_type": "markdown",
   "metadata": {},
   "source": [
    "----\n",
    "## Improving Results\n",
    "In this final section, you will choose from the three supervised learning models the *best* model to use on the student data. You will then perform a grid search optimization for the model over the entire training set (`X_train` and `y_train`) by tuning at least one parameter to improve upon the untuned model's F-score. "
   ]
  },
  {
   "cell_type": "markdown",
   "metadata": {},
   "source": [
    "### Question 3 - Choosing the Best Model\n",
    "\n",
    "* Based on the evaluation you performed earlier, in one to two paragraphs, explain to *CharityML* which of the three models you believe to be most appropriate for the task of identifying individuals that make more than \\$50,000. \n",
    "\n",
    "** HINT: ** \n",
    "Look at the graph at the bottom left from the cell above(the visualization created by `vs.evaluate(results, accuracy, fscore)`) and check the F score for the testing set when 100% of the training set is used. Which model has the highest score? Your answer should include discussion of the:\n",
    "* metrics - F score on the testing when 100% of the training data is used, \n",
    "* prediction/training time\n",
    "* the algorithm's suitability for the data."
   ]
  },
  {
   "cell_type": "markdown",
   "metadata": {},
   "source": [
    "**Answer: **\n",
    "\n",
    "1. As the f-score of the total test set, we can conclude that SVC is the best one, although LinearSvc is as same as SVC, but I think after tuning the parameters, the result should be better."
   ]
  },
  {
   "cell_type": "markdown",
   "metadata": {},
   "source": [
    "### Question 4 - Describing the Model in Layman's Terms\n",
    "\n",
    "* In one to two paragraphs, explain to *CharityML*, in layman's terms, how the final model chosen is supposed to work. Be sure that you are describing the major qualities of the model, such as how the model is trained and how the model makes a prediction. Avoid using advanced mathematical jargon, such as describing equations.\n",
    "\n",
    "** HINT: **\n",
    "\n",
    "When explaining your model, if using external resources please include all citations."
   ]
  },
  {
   "cell_type": "markdown",
   "metadata": {},
   "source": [
    "**Answer: ** \n",
    "\n",
    "1. SVC, as we can see, after tried severval different set of data size, we can clearly see that the performance is better when testing. Thus we choose SVC and LinearSVC, their perfomances on the test sets are better. So that we can modify the model to achieve a better performance."
   ]
  },
  {
   "cell_type": "markdown",
   "metadata": {},
   "source": [
    "### Implementation: Model Tuning\n",
    "Fine tune the chosen model. Use grid search (`GridSearchCV`) with at least one important parameter tuned with at least 3 different values. You will need to use the entire training set for this. In the code cell below, you will need to implement the following:\n",
    "- Import [`sklearn.grid_search.GridSearchCV`](http://scikit-learn.org/0.17/modules/generated/sklearn.grid_search.GridSearchCV.html) and [`sklearn.metrics.make_scorer`](http://scikit-learn.org/stable/modules/generated/sklearn.metrics.make_scorer.html).\n",
    "- Initialize the classifier you've chosen and store it in `clf`.\n",
    " - Set a `random_state` if one is available to the same state you set before.\n",
    "- Create a dictionary of parameters you wish to tune for the chosen model.\n",
    " - Example: `parameters = {'parameter' : [list of values]}`.\n",
    " - **Note:** Avoid tuning the `max_features` parameter of your learner if that parameter is available!\n",
    "- Use `make_scorer` to create an `fbeta_score` scoring object (with $\\beta = 0.5$).\n",
    "- Perform grid search on the classifier `clf` using the `'scorer'`, and store it in `grid_obj`.\n",
    "- Fit the grid search object to the training data (`X_train`, `y_train`), and store it in `grid_fit`.\n",
    "\n",
    "**Note:** Depending on the algorithm chosen and the parameter list, the following implementation may take some time to run!"
   ]
  },
  {
   "cell_type": "code",
<<<<<<< HEAD
   "execution_count": 27,
   "metadata": {},
   "outputs": [
    {
     "name": "stderr",
     "output_type": "stream",
     "text": [
      "/Users/Super/anaconda/envs/obspy/lib/python3.6/site-packages/sklearn/svm/base.py:220: ConvergenceWarning: Solver terminated early (max_iter=1000).  Consider pre-processing your data with StandardScaler or MinMaxScaler.\n",
      "  % self.max_iter, ConvergenceWarning)\n",
      "/Users/Super/anaconda/envs/obspy/lib/python3.6/site-packages/sklearn/svm/base.py:220: ConvergenceWarning: Solver terminated early (max_iter=1000).  Consider pre-processing your data with StandardScaler or MinMaxScaler.\n",
      "  % self.max_iter, ConvergenceWarning)\n",
      "/Users/Super/anaconda/envs/obspy/lib/python3.6/site-packages/sklearn/svm/base.py:220: ConvergenceWarning: Solver terminated early (max_iter=1000).  Consider pre-processing your data with StandardScaler or MinMaxScaler.\n",
      "  % self.max_iter, ConvergenceWarning)\n",
      "/Users/Super/anaconda/envs/obspy/lib/python3.6/site-packages/sklearn/metrics/classification.py:1113: UndefinedMetricWarning: F-score is ill-defined and being set to 0.0 due to no predicted samples.\n",
      "  'precision', 'predicted', average, warn_for)\n",
      "/Users/Super/anaconda/envs/obspy/lib/python3.6/site-packages/sklearn/metrics/classification.py:1113: UndefinedMetricWarning: F-score is ill-defined and being set to 0.0 due to no predicted samples.\n",
      "  'precision', 'predicted', average, warn_for)\n",
      "/Users/Super/anaconda/envs/obspy/lib/python3.6/site-packages/sklearn/metrics/classification.py:1113: UndefinedMetricWarning: F-score is ill-defined and being set to 0.0 due to no predicted samples.\n",
      "  'precision', 'predicted', average, warn_for)\n",
      "/Users/Super/anaconda/envs/obspy/lib/python3.6/site-packages/sklearn/svm/base.py:220: ConvergenceWarning: Solver terminated early (max_iter=1000).  Consider pre-processing your data with StandardScaler or MinMaxScaler.\n",
      "  % self.max_iter, ConvergenceWarning)\n",
      "/Users/Super/anaconda/envs/obspy/lib/python3.6/site-packages/sklearn/svm/base.py:220: ConvergenceWarning: Solver terminated early (max_iter=1000).  Consider pre-processing your data with StandardScaler or MinMaxScaler.\n",
      "  % self.max_iter, ConvergenceWarning)\n",
      "/Users/Super/anaconda/envs/obspy/lib/python3.6/site-packages/sklearn/svm/base.py:220: ConvergenceWarning: Solver terminated early (max_iter=1000).  Consider pre-processing your data with StandardScaler or MinMaxScaler.\n",
      "  % self.max_iter, ConvergenceWarning)\n",
      "/Users/Super/anaconda/envs/obspy/lib/python3.6/site-packages/sklearn/metrics/classification.py:1113: UndefinedMetricWarning: F-score is ill-defined and being set to 0.0 due to no predicted samples.\n",
      "  'precision', 'predicted', average, warn_for)\n",
      "/Users/Super/anaconda/envs/obspy/lib/python3.6/site-packages/sklearn/metrics/classification.py:1113: UndefinedMetricWarning: F-score is ill-defined and being set to 0.0 due to no predicted samples.\n",
      "  'precision', 'predicted', average, warn_for)\n",
      "/Users/Super/anaconda/envs/obspy/lib/python3.6/site-packages/sklearn/metrics/classification.py:1113: UndefinedMetricWarning: F-score is ill-defined and being set to 0.0 due to no predicted samples.\n",
      "  'precision', 'predicted', average, warn_for)\n",
      "/Users/Super/anaconda/envs/obspy/lib/python3.6/site-packages/sklearn/svm/base.py:220: ConvergenceWarning: Solver terminated early (max_iter=1000).  Consider pre-processing your data with StandardScaler or MinMaxScaler.\n",
      "  % self.max_iter, ConvergenceWarning)\n",
      "/Users/Super/anaconda/envs/obspy/lib/python3.6/site-packages/sklearn/svm/base.py:220: ConvergenceWarning: Solver terminated early (max_iter=1000).  Consider pre-processing your data with StandardScaler or MinMaxScaler.\n",
      "  % self.max_iter, ConvergenceWarning)\n",
      "/Users/Super/anaconda/envs/obspy/lib/python3.6/site-packages/sklearn/svm/base.py:220: ConvergenceWarning: Solver terminated early (max_iter=1000).  Consider pre-processing your data with StandardScaler or MinMaxScaler.\n",
      "  % self.max_iter, ConvergenceWarning)\n",
      "/Users/Super/anaconda/envs/obspy/lib/python3.6/site-packages/sklearn/metrics/classification.py:1113: UndefinedMetricWarning: F-score is ill-defined and being set to 0.0 due to no predicted samples.\n",
      "  'precision', 'predicted', average, warn_for)\n",
      "/Users/Super/anaconda/envs/obspy/lib/python3.6/site-packages/sklearn/metrics/classification.py:1113: UndefinedMetricWarning: F-score is ill-defined and being set to 0.0 due to no predicted samples.\n",
      "  'precision', 'predicted', average, warn_for)\n"
     ]
    },
    {
     "ename": "KeyboardInterrupt",
     "evalue": "",
     "output_type": "error",
     "traceback": [
      "\u001b[0;31m---------------------------------------------------------------------------\u001b[0m",
      "\u001b[0;31mKeyboardInterrupt\u001b[0m                         Traceback (most recent call last)",
      "\u001b[0;32m<ipython-input-27-5b3b79442183>\u001b[0m in \u001b[0;36m<module>\u001b[0;34m()\u001b[0m\n\u001b[1;32m     17\u001b[0m \u001b[0;34m\u001b[0m\u001b[0m\n\u001b[1;32m     18\u001b[0m \u001b[0;31m# TODO: Fit the grid search object to the training data and find the optimal parameters using fit()\u001b[0m\u001b[0;34m\u001b[0m\u001b[0;34m\u001b[0m\u001b[0m\n\u001b[0;32m---> 19\u001b[0;31m \u001b[0mgrid_fit\u001b[0m \u001b[0;34m=\u001b[0m \u001b[0mgrid_obj\u001b[0m\u001b[0;34m.\u001b[0m\u001b[0mfit\u001b[0m\u001b[0;34m(\u001b[0m\u001b[0mX_train\u001b[0m\u001b[0;34m,\u001b[0m \u001b[0my_train\u001b[0m\u001b[0;34m)\u001b[0m\u001b[0;34m\u001b[0m\u001b[0m\n\u001b[0m\u001b[1;32m     20\u001b[0m \u001b[0;34m\u001b[0m\u001b[0m\n\u001b[1;32m     21\u001b[0m \u001b[0;31m# Get the estimator\u001b[0m\u001b[0;34m\u001b[0m\u001b[0;34m\u001b[0m\u001b[0m\n",
      "\u001b[0;32m~/anaconda/envs/obspy/lib/python3.6/site-packages/sklearn/grid_search.py\u001b[0m in \u001b[0;36mfit\u001b[0;34m(self, X, y)\u001b[0m\n\u001b[1;32m    827\u001b[0m \u001b[0;34m\u001b[0m\u001b[0m\n\u001b[1;32m    828\u001b[0m         \"\"\"\n\u001b[0;32m--> 829\u001b[0;31m         \u001b[0;32mreturn\u001b[0m \u001b[0mself\u001b[0m\u001b[0;34m.\u001b[0m\u001b[0m_fit\u001b[0m\u001b[0;34m(\u001b[0m\u001b[0mX\u001b[0m\u001b[0;34m,\u001b[0m \u001b[0my\u001b[0m\u001b[0;34m,\u001b[0m \u001b[0mParameterGrid\u001b[0m\u001b[0;34m(\u001b[0m\u001b[0mself\u001b[0m\u001b[0;34m.\u001b[0m\u001b[0mparam_grid\u001b[0m\u001b[0;34m)\u001b[0m\u001b[0;34m)\u001b[0m\u001b[0;34m\u001b[0m\u001b[0m\n\u001b[0m\u001b[1;32m    830\u001b[0m \u001b[0;34m\u001b[0m\u001b[0m\n\u001b[1;32m    831\u001b[0m \u001b[0;34m\u001b[0m\u001b[0m\n",
      "\u001b[0;32m~/anaconda/envs/obspy/lib/python3.6/site-packages/sklearn/grid_search.py\u001b[0m in \u001b[0;36m_fit\u001b[0;34m(self, X, y, parameter_iterable)\u001b[0m\n\u001b[1;32m    571\u001b[0m                                     \u001b[0mself\u001b[0m\u001b[0;34m.\u001b[0m\u001b[0mfit_params\u001b[0m\u001b[0;34m,\u001b[0m \u001b[0mreturn_parameters\u001b[0m\u001b[0;34m=\u001b[0m\u001b[0;32mTrue\u001b[0m\u001b[0;34m,\u001b[0m\u001b[0;34m\u001b[0m\u001b[0m\n\u001b[1;32m    572\u001b[0m                                     error_score=self.error_score)\n\u001b[0;32m--> 573\u001b[0;31m                 \u001b[0;32mfor\u001b[0m \u001b[0mparameters\u001b[0m \u001b[0;32min\u001b[0m \u001b[0mparameter_iterable\u001b[0m\u001b[0;34m\u001b[0m\u001b[0m\n\u001b[0m\u001b[1;32m    574\u001b[0m                 for train, test in cv)\n\u001b[1;32m    575\u001b[0m \u001b[0;34m\u001b[0m\u001b[0m\n",
      "\u001b[0;32m~/anaconda/envs/obspy/lib/python3.6/site-packages/sklearn/externals/joblib/parallel.py\u001b[0m in \u001b[0;36m__call__\u001b[0;34m(self, iterable)\u001b[0m\n\u001b[1;32m    756\u001b[0m             \u001b[0;31m# was dispatched. In particular this covers the edge\u001b[0m\u001b[0;34m\u001b[0m\u001b[0;34m\u001b[0m\u001b[0m\n\u001b[1;32m    757\u001b[0m             \u001b[0;31m# case of Parallel used with an exhausted iterator.\u001b[0m\u001b[0;34m\u001b[0m\u001b[0;34m\u001b[0m\u001b[0m\n\u001b[0;32m--> 758\u001b[0;31m             \u001b[0;32mwhile\u001b[0m \u001b[0mself\u001b[0m\u001b[0;34m.\u001b[0m\u001b[0mdispatch_one_batch\u001b[0m\u001b[0;34m(\u001b[0m\u001b[0miterator\u001b[0m\u001b[0;34m)\u001b[0m\u001b[0;34m:\u001b[0m\u001b[0;34m\u001b[0m\u001b[0m\n\u001b[0m\u001b[1;32m    759\u001b[0m                 \u001b[0mself\u001b[0m\u001b[0;34m.\u001b[0m\u001b[0m_iterating\u001b[0m \u001b[0;34m=\u001b[0m \u001b[0;32mTrue\u001b[0m\u001b[0;34m\u001b[0m\u001b[0m\n\u001b[1;32m    760\u001b[0m             \u001b[0;32melse\u001b[0m\u001b[0;34m:\u001b[0m\u001b[0;34m\u001b[0m\u001b[0m\n",
      "\u001b[0;32m~/anaconda/envs/obspy/lib/python3.6/site-packages/sklearn/externals/joblib/parallel.py\u001b[0m in \u001b[0;36mdispatch_one_batch\u001b[0;34m(self, iterator)\u001b[0m\n\u001b[1;32m    606\u001b[0m                 \u001b[0;32mreturn\u001b[0m \u001b[0;32mFalse\u001b[0m\u001b[0;34m\u001b[0m\u001b[0m\n\u001b[1;32m    607\u001b[0m             \u001b[0;32melse\u001b[0m\u001b[0;34m:\u001b[0m\u001b[0;34m\u001b[0m\u001b[0m\n\u001b[0;32m--> 608\u001b[0;31m                 \u001b[0mself\u001b[0m\u001b[0;34m.\u001b[0m\u001b[0m_dispatch\u001b[0m\u001b[0;34m(\u001b[0m\u001b[0mtasks\u001b[0m\u001b[0;34m)\u001b[0m\u001b[0;34m\u001b[0m\u001b[0m\n\u001b[0m\u001b[1;32m    609\u001b[0m                 \u001b[0;32mreturn\u001b[0m \u001b[0;32mTrue\u001b[0m\u001b[0;34m\u001b[0m\u001b[0m\n\u001b[1;32m    610\u001b[0m \u001b[0;34m\u001b[0m\u001b[0m\n",
      "\u001b[0;32m~/anaconda/envs/obspy/lib/python3.6/site-packages/sklearn/externals/joblib/parallel.py\u001b[0m in \u001b[0;36m_dispatch\u001b[0;34m(self, batch)\u001b[0m\n\u001b[1;32m    569\u001b[0m         \u001b[0mdispatch_timestamp\u001b[0m \u001b[0;34m=\u001b[0m \u001b[0mtime\u001b[0m\u001b[0;34m.\u001b[0m\u001b[0mtime\u001b[0m\u001b[0;34m(\u001b[0m\u001b[0;34m)\u001b[0m\u001b[0;34m\u001b[0m\u001b[0m\n\u001b[1;32m    570\u001b[0m         \u001b[0mcb\u001b[0m \u001b[0;34m=\u001b[0m \u001b[0mBatchCompletionCallBack\u001b[0m\u001b[0;34m(\u001b[0m\u001b[0mdispatch_timestamp\u001b[0m\u001b[0;34m,\u001b[0m \u001b[0mlen\u001b[0m\u001b[0;34m(\u001b[0m\u001b[0mbatch\u001b[0m\u001b[0;34m)\u001b[0m\u001b[0;34m,\u001b[0m \u001b[0mself\u001b[0m\u001b[0;34m)\u001b[0m\u001b[0;34m\u001b[0m\u001b[0m\n\u001b[0;32m--> 571\u001b[0;31m         \u001b[0mjob\u001b[0m \u001b[0;34m=\u001b[0m \u001b[0mself\u001b[0m\u001b[0;34m.\u001b[0m\u001b[0m_backend\u001b[0m\u001b[0;34m.\u001b[0m\u001b[0mapply_async\u001b[0m\u001b[0;34m(\u001b[0m\u001b[0mbatch\u001b[0m\u001b[0;34m,\u001b[0m \u001b[0mcallback\u001b[0m\u001b[0;34m=\u001b[0m\u001b[0mcb\u001b[0m\u001b[0;34m)\u001b[0m\u001b[0;34m\u001b[0m\u001b[0m\n\u001b[0m\u001b[1;32m    572\u001b[0m         \u001b[0mself\u001b[0m\u001b[0;34m.\u001b[0m\u001b[0m_jobs\u001b[0m\u001b[0;34m.\u001b[0m\u001b[0mappend\u001b[0m\u001b[0;34m(\u001b[0m\u001b[0mjob\u001b[0m\u001b[0;34m)\u001b[0m\u001b[0;34m\u001b[0m\u001b[0m\n\u001b[1;32m    573\u001b[0m \u001b[0;34m\u001b[0m\u001b[0m\n",
      "\u001b[0;32m~/anaconda/envs/obspy/lib/python3.6/site-packages/sklearn/externals/joblib/_parallel_backends.py\u001b[0m in \u001b[0;36mapply_async\u001b[0;34m(self, func, callback)\u001b[0m\n\u001b[1;32m    107\u001b[0m     \u001b[0;32mdef\u001b[0m \u001b[0mapply_async\u001b[0m\u001b[0;34m(\u001b[0m\u001b[0mself\u001b[0m\u001b[0;34m,\u001b[0m \u001b[0mfunc\u001b[0m\u001b[0;34m,\u001b[0m \u001b[0mcallback\u001b[0m\u001b[0;34m=\u001b[0m\u001b[0;32mNone\u001b[0m\u001b[0;34m)\u001b[0m\u001b[0;34m:\u001b[0m\u001b[0;34m\u001b[0m\u001b[0m\n\u001b[1;32m    108\u001b[0m         \u001b[0;34m\"\"\"Schedule a func to be run\"\"\"\u001b[0m\u001b[0;34m\u001b[0m\u001b[0m\n\u001b[0;32m--> 109\u001b[0;31m         \u001b[0mresult\u001b[0m \u001b[0;34m=\u001b[0m \u001b[0mImmediateResult\u001b[0m\u001b[0;34m(\u001b[0m\u001b[0mfunc\u001b[0m\u001b[0;34m)\u001b[0m\u001b[0;34m\u001b[0m\u001b[0m\n\u001b[0m\u001b[1;32m    110\u001b[0m         \u001b[0;32mif\u001b[0m \u001b[0mcallback\u001b[0m\u001b[0;34m:\u001b[0m\u001b[0;34m\u001b[0m\u001b[0m\n\u001b[1;32m    111\u001b[0m             \u001b[0mcallback\u001b[0m\u001b[0;34m(\u001b[0m\u001b[0mresult\u001b[0m\u001b[0;34m)\u001b[0m\u001b[0;34m\u001b[0m\u001b[0m\n",
      "\u001b[0;32m~/anaconda/envs/obspy/lib/python3.6/site-packages/sklearn/externals/joblib/_parallel_backends.py\u001b[0m in \u001b[0;36m__init__\u001b[0;34m(self, batch)\u001b[0m\n\u001b[1;32m    324\u001b[0m         \u001b[0;31m# Don't delay the application, to avoid keeping the input\u001b[0m\u001b[0;34m\u001b[0m\u001b[0;34m\u001b[0m\u001b[0m\n\u001b[1;32m    325\u001b[0m         \u001b[0;31m# arguments in memory\u001b[0m\u001b[0;34m\u001b[0m\u001b[0;34m\u001b[0m\u001b[0m\n\u001b[0;32m--> 326\u001b[0;31m         \u001b[0mself\u001b[0m\u001b[0;34m.\u001b[0m\u001b[0mresults\u001b[0m \u001b[0;34m=\u001b[0m \u001b[0mbatch\u001b[0m\u001b[0;34m(\u001b[0m\u001b[0;34m)\u001b[0m\u001b[0;34m\u001b[0m\u001b[0m\n\u001b[0m\u001b[1;32m    327\u001b[0m \u001b[0;34m\u001b[0m\u001b[0m\n\u001b[1;32m    328\u001b[0m     \u001b[0;32mdef\u001b[0m \u001b[0mget\u001b[0m\u001b[0;34m(\u001b[0m\u001b[0mself\u001b[0m\u001b[0;34m)\u001b[0m\u001b[0;34m:\u001b[0m\u001b[0;34m\u001b[0m\u001b[0m\n",
      "\u001b[0;32m~/anaconda/envs/obspy/lib/python3.6/site-packages/sklearn/externals/joblib/parallel.py\u001b[0m in \u001b[0;36m__call__\u001b[0;34m(self)\u001b[0m\n\u001b[1;32m    129\u001b[0m \u001b[0;34m\u001b[0m\u001b[0m\n\u001b[1;32m    130\u001b[0m     \u001b[0;32mdef\u001b[0m \u001b[0m__call__\u001b[0m\u001b[0;34m(\u001b[0m\u001b[0mself\u001b[0m\u001b[0;34m)\u001b[0m\u001b[0;34m:\u001b[0m\u001b[0;34m\u001b[0m\u001b[0m\n\u001b[0;32m--> 131\u001b[0;31m         \u001b[0;32mreturn\u001b[0m \u001b[0;34m[\u001b[0m\u001b[0mfunc\u001b[0m\u001b[0;34m(\u001b[0m\u001b[0;34m*\u001b[0m\u001b[0margs\u001b[0m\u001b[0;34m,\u001b[0m \u001b[0;34m**\u001b[0m\u001b[0mkwargs\u001b[0m\u001b[0;34m)\u001b[0m \u001b[0;32mfor\u001b[0m \u001b[0mfunc\u001b[0m\u001b[0;34m,\u001b[0m \u001b[0margs\u001b[0m\u001b[0;34m,\u001b[0m \u001b[0mkwargs\u001b[0m \u001b[0;32min\u001b[0m \u001b[0mself\u001b[0m\u001b[0;34m.\u001b[0m\u001b[0mitems\u001b[0m\u001b[0;34m]\u001b[0m\u001b[0;34m\u001b[0m\u001b[0m\n\u001b[0m\u001b[1;32m    132\u001b[0m \u001b[0;34m\u001b[0m\u001b[0m\n\u001b[1;32m    133\u001b[0m     \u001b[0;32mdef\u001b[0m \u001b[0m__len__\u001b[0m\u001b[0;34m(\u001b[0m\u001b[0mself\u001b[0m\u001b[0;34m)\u001b[0m\u001b[0;34m:\u001b[0m\u001b[0;34m\u001b[0m\u001b[0m\n",
      "\u001b[0;32m~/anaconda/envs/obspy/lib/python3.6/site-packages/sklearn/externals/joblib/parallel.py\u001b[0m in \u001b[0;36m<listcomp>\u001b[0;34m(.0)\u001b[0m\n\u001b[1;32m    129\u001b[0m \u001b[0;34m\u001b[0m\u001b[0m\n\u001b[1;32m    130\u001b[0m     \u001b[0;32mdef\u001b[0m \u001b[0m__call__\u001b[0m\u001b[0;34m(\u001b[0m\u001b[0mself\u001b[0m\u001b[0;34m)\u001b[0m\u001b[0;34m:\u001b[0m\u001b[0;34m\u001b[0m\u001b[0m\n\u001b[0;32m--> 131\u001b[0;31m         \u001b[0;32mreturn\u001b[0m \u001b[0;34m[\u001b[0m\u001b[0mfunc\u001b[0m\u001b[0;34m(\u001b[0m\u001b[0;34m*\u001b[0m\u001b[0margs\u001b[0m\u001b[0;34m,\u001b[0m \u001b[0;34m**\u001b[0m\u001b[0mkwargs\u001b[0m\u001b[0;34m)\u001b[0m \u001b[0;32mfor\u001b[0m \u001b[0mfunc\u001b[0m\u001b[0;34m,\u001b[0m \u001b[0margs\u001b[0m\u001b[0;34m,\u001b[0m \u001b[0mkwargs\u001b[0m \u001b[0;32min\u001b[0m \u001b[0mself\u001b[0m\u001b[0;34m.\u001b[0m\u001b[0mitems\u001b[0m\u001b[0;34m]\u001b[0m\u001b[0;34m\u001b[0m\u001b[0m\n\u001b[0m\u001b[1;32m    132\u001b[0m \u001b[0;34m\u001b[0m\u001b[0m\n\u001b[1;32m    133\u001b[0m     \u001b[0;32mdef\u001b[0m \u001b[0m__len__\u001b[0m\u001b[0;34m(\u001b[0m\u001b[0mself\u001b[0m\u001b[0;34m)\u001b[0m\u001b[0;34m:\u001b[0m\u001b[0;34m\u001b[0m\u001b[0m\n",
      "\u001b[0;32m~/anaconda/envs/obspy/lib/python3.6/site-packages/sklearn/cross_validation.py\u001b[0m in \u001b[0;36m_fit_and_score\u001b[0;34m(estimator, X, y, scorer, train, test, verbose, parameters, fit_params, return_train_score, return_parameters, error_score)\u001b[0m\n\u001b[1;32m   1682\u001b[0m \u001b[0;34m\u001b[0m\u001b[0m\n\u001b[1;32m   1683\u001b[0m     \u001b[0;32melse\u001b[0m\u001b[0;34m:\u001b[0m\u001b[0;34m\u001b[0m\u001b[0m\n\u001b[0;32m-> 1684\u001b[0;31m         \u001b[0mtest_score\u001b[0m \u001b[0;34m=\u001b[0m \u001b[0m_score\u001b[0m\u001b[0;34m(\u001b[0m\u001b[0mestimator\u001b[0m\u001b[0;34m,\u001b[0m \u001b[0mX_test\u001b[0m\u001b[0;34m,\u001b[0m \u001b[0my_test\u001b[0m\u001b[0;34m,\u001b[0m \u001b[0mscorer\u001b[0m\u001b[0;34m)\u001b[0m\u001b[0;34m\u001b[0m\u001b[0m\n\u001b[0m\u001b[1;32m   1685\u001b[0m         \u001b[0;32mif\u001b[0m \u001b[0mreturn_train_score\u001b[0m\u001b[0;34m:\u001b[0m\u001b[0;34m\u001b[0m\u001b[0m\n\u001b[1;32m   1686\u001b[0m             \u001b[0mtrain_score\u001b[0m \u001b[0;34m=\u001b[0m \u001b[0m_score\u001b[0m\u001b[0;34m(\u001b[0m\u001b[0mestimator\u001b[0m\u001b[0;34m,\u001b[0m \u001b[0mX_train\u001b[0m\u001b[0;34m,\u001b[0m \u001b[0my_train\u001b[0m\u001b[0;34m,\u001b[0m \u001b[0mscorer\u001b[0m\u001b[0;34m)\u001b[0m\u001b[0;34m\u001b[0m\u001b[0m\n",
      "\u001b[0;32m~/anaconda/envs/obspy/lib/python3.6/site-packages/sklearn/cross_validation.py\u001b[0m in \u001b[0;36m_score\u001b[0;34m(estimator, X_test, y_test, scorer)\u001b[0m\n\u001b[1;32m   1739\u001b[0m         \u001b[0mscore\u001b[0m \u001b[0;34m=\u001b[0m \u001b[0mscorer\u001b[0m\u001b[0;34m(\u001b[0m\u001b[0mestimator\u001b[0m\u001b[0;34m,\u001b[0m \u001b[0mX_test\u001b[0m\u001b[0;34m)\u001b[0m\u001b[0;34m\u001b[0m\u001b[0m\n\u001b[1;32m   1740\u001b[0m     \u001b[0;32melse\u001b[0m\u001b[0;34m:\u001b[0m\u001b[0;34m\u001b[0m\u001b[0m\n\u001b[0;32m-> 1741\u001b[0;31m         \u001b[0mscore\u001b[0m \u001b[0;34m=\u001b[0m \u001b[0mscorer\u001b[0m\u001b[0;34m(\u001b[0m\u001b[0mestimator\u001b[0m\u001b[0;34m,\u001b[0m \u001b[0mX_test\u001b[0m\u001b[0;34m,\u001b[0m \u001b[0my_test\u001b[0m\u001b[0;34m)\u001b[0m\u001b[0;34m\u001b[0m\u001b[0m\n\u001b[0m\u001b[1;32m   1742\u001b[0m     \u001b[0;32mif\u001b[0m \u001b[0mhasattr\u001b[0m\u001b[0;34m(\u001b[0m\u001b[0mscore\u001b[0m\u001b[0;34m,\u001b[0m \u001b[0;34m'item'\u001b[0m\u001b[0;34m)\u001b[0m\u001b[0;34m:\u001b[0m\u001b[0;34m\u001b[0m\u001b[0m\n\u001b[1;32m   1743\u001b[0m         \u001b[0;32mtry\u001b[0m\u001b[0;34m:\u001b[0m\u001b[0;34m\u001b[0m\u001b[0m\n",
      "\u001b[0;32m~/anaconda/envs/obspy/lib/python3.6/site-packages/sklearn/metrics/scorer.py\u001b[0m in \u001b[0;36m__call__\u001b[0;34m(self, estimator, X, y_true, sample_weight)\u001b[0m\n\u001b[1;32m     89\u001b[0m         super(_PredictScorer, self).__call__(estimator, X, y_true,\n\u001b[1;32m     90\u001b[0m                                              sample_weight=sample_weight)\n\u001b[0;32m---> 91\u001b[0;31m         \u001b[0my_pred\u001b[0m \u001b[0;34m=\u001b[0m \u001b[0mestimator\u001b[0m\u001b[0;34m.\u001b[0m\u001b[0mpredict\u001b[0m\u001b[0;34m(\u001b[0m\u001b[0mX\u001b[0m\u001b[0;34m)\u001b[0m\u001b[0;34m\u001b[0m\u001b[0m\n\u001b[0m\u001b[1;32m     92\u001b[0m         \u001b[0;32mif\u001b[0m \u001b[0msample_weight\u001b[0m \u001b[0;32mis\u001b[0m \u001b[0;32mnot\u001b[0m \u001b[0;32mNone\u001b[0m\u001b[0;34m:\u001b[0m\u001b[0;34m\u001b[0m\u001b[0m\n\u001b[1;32m     93\u001b[0m             return self._sign * self._score_func(y_true, y_pred,\n",
      "\u001b[0;32m~/anaconda/envs/obspy/lib/python3.6/site-packages/sklearn/svm/base.py\u001b[0m in \u001b[0;36mpredict\u001b[0;34m(self, X)\u001b[0m\n\u001b[1;32m    571\u001b[0m             \u001b[0mClass\u001b[0m \u001b[0mlabels\u001b[0m \u001b[0;32mfor\u001b[0m \u001b[0msamples\u001b[0m \u001b[0;32min\u001b[0m \u001b[0mX\u001b[0m\u001b[0;34m.\u001b[0m\u001b[0;34m\u001b[0m\u001b[0m\n\u001b[1;32m    572\u001b[0m         \"\"\"\n\u001b[0;32m--> 573\u001b[0;31m         \u001b[0my\u001b[0m \u001b[0;34m=\u001b[0m \u001b[0msuper\u001b[0m\u001b[0;34m(\u001b[0m\u001b[0mBaseSVC\u001b[0m\u001b[0;34m,\u001b[0m \u001b[0mself\u001b[0m\u001b[0;34m)\u001b[0m\u001b[0;34m.\u001b[0m\u001b[0mpredict\u001b[0m\u001b[0;34m(\u001b[0m\u001b[0mX\u001b[0m\u001b[0;34m)\u001b[0m\u001b[0;34m\u001b[0m\u001b[0m\n\u001b[0m\u001b[1;32m    574\u001b[0m         \u001b[0;32mreturn\u001b[0m \u001b[0mself\u001b[0m\u001b[0;34m.\u001b[0m\u001b[0mclasses_\u001b[0m\u001b[0;34m.\u001b[0m\u001b[0mtake\u001b[0m\u001b[0;34m(\u001b[0m\u001b[0mnp\u001b[0m\u001b[0;34m.\u001b[0m\u001b[0masarray\u001b[0m\u001b[0;34m(\u001b[0m\u001b[0my\u001b[0m\u001b[0;34m,\u001b[0m \u001b[0mdtype\u001b[0m\u001b[0;34m=\u001b[0m\u001b[0mnp\u001b[0m\u001b[0;34m.\u001b[0m\u001b[0mintp\u001b[0m\u001b[0;34m)\u001b[0m\u001b[0;34m)\u001b[0m\u001b[0;34m\u001b[0m\u001b[0m\n\u001b[1;32m    575\u001b[0m \u001b[0;34m\u001b[0m\u001b[0m\n",
      "\u001b[0;32m~/anaconda/envs/obspy/lib/python3.6/site-packages/sklearn/svm/base.py\u001b[0m in \u001b[0;36mpredict\u001b[0;34m(self, X)\u001b[0m\n\u001b[1;32m    310\u001b[0m         \u001b[0mX\u001b[0m \u001b[0;34m=\u001b[0m \u001b[0mself\u001b[0m\u001b[0;34m.\u001b[0m\u001b[0m_validate_for_predict\u001b[0m\u001b[0;34m(\u001b[0m\u001b[0mX\u001b[0m\u001b[0;34m)\u001b[0m\u001b[0;34m\u001b[0m\u001b[0m\n\u001b[1;32m    311\u001b[0m         \u001b[0mpredict\u001b[0m \u001b[0;34m=\u001b[0m \u001b[0mself\u001b[0m\u001b[0;34m.\u001b[0m\u001b[0m_sparse_predict\u001b[0m \u001b[0;32mif\u001b[0m \u001b[0mself\u001b[0m\u001b[0;34m.\u001b[0m\u001b[0m_sparse\u001b[0m \u001b[0;32melse\u001b[0m \u001b[0mself\u001b[0m\u001b[0;34m.\u001b[0m\u001b[0m_dense_predict\u001b[0m\u001b[0;34m\u001b[0m\u001b[0m\n\u001b[0;32m--> 312\u001b[0;31m         \u001b[0;32mreturn\u001b[0m \u001b[0mpredict\u001b[0m\u001b[0;34m(\u001b[0m\u001b[0mX\u001b[0m\u001b[0;34m)\u001b[0m\u001b[0;34m\u001b[0m\u001b[0m\n\u001b[0m\u001b[1;32m    313\u001b[0m \u001b[0;34m\u001b[0m\u001b[0m\n\u001b[1;32m    314\u001b[0m     \u001b[0;32mdef\u001b[0m \u001b[0m_dense_predict\u001b[0m\u001b[0;34m(\u001b[0m\u001b[0mself\u001b[0m\u001b[0;34m,\u001b[0m \u001b[0mX\u001b[0m\u001b[0;34m)\u001b[0m\u001b[0;34m:\u001b[0m\u001b[0;34m\u001b[0m\u001b[0m\n",
      "\u001b[0;32m~/anaconda/envs/obspy/lib/python3.6/site-packages/sklearn/svm/base.py\u001b[0m in \u001b[0;36m_dense_predict\u001b[0;34m(self, X)\u001b[0m\n\u001b[1;32m    333\u001b[0m             \u001b[0mself\u001b[0m\u001b[0;34m.\u001b[0m\u001b[0mprobA_\u001b[0m\u001b[0;34m,\u001b[0m \u001b[0mself\u001b[0m\u001b[0;34m.\u001b[0m\u001b[0mprobB_\u001b[0m\u001b[0;34m,\u001b[0m \u001b[0msvm_type\u001b[0m\u001b[0;34m=\u001b[0m\u001b[0msvm_type\u001b[0m\u001b[0;34m,\u001b[0m \u001b[0mkernel\u001b[0m\u001b[0;34m=\u001b[0m\u001b[0mkernel\u001b[0m\u001b[0;34m,\u001b[0m\u001b[0;34m\u001b[0m\u001b[0m\n\u001b[1;32m    334\u001b[0m             \u001b[0mdegree\u001b[0m\u001b[0;34m=\u001b[0m\u001b[0mself\u001b[0m\u001b[0;34m.\u001b[0m\u001b[0mdegree\u001b[0m\u001b[0;34m,\u001b[0m \u001b[0mcoef0\u001b[0m\u001b[0;34m=\u001b[0m\u001b[0mself\u001b[0m\u001b[0;34m.\u001b[0m\u001b[0mcoef0\u001b[0m\u001b[0;34m,\u001b[0m \u001b[0mgamma\u001b[0m\u001b[0;34m=\u001b[0m\u001b[0mself\u001b[0m\u001b[0;34m.\u001b[0m\u001b[0m_gamma\u001b[0m\u001b[0;34m,\u001b[0m\u001b[0;34m\u001b[0m\u001b[0m\n\u001b[0;32m--> 335\u001b[0;31m             cache_size=self.cache_size)\n\u001b[0m\u001b[1;32m    336\u001b[0m \u001b[0;34m\u001b[0m\u001b[0m\n\u001b[1;32m    337\u001b[0m     \u001b[0;32mdef\u001b[0m \u001b[0m_sparse_predict\u001b[0m\u001b[0;34m(\u001b[0m\u001b[0mself\u001b[0m\u001b[0;34m,\u001b[0m \u001b[0mX\u001b[0m\u001b[0;34m)\u001b[0m\u001b[0;34m:\u001b[0m\u001b[0;34m\u001b[0m\u001b[0m\n",
      "\u001b[0;31mKeyboardInterrupt\u001b[0m: "
=======
   "execution_count": 80,
   "metadata": {},
   "outputs": [
    {
     "name": "stdout",
     "output_type": "stream",
     "text": [
      "Unoptimized model\n",
      "------\n",
      "Accuracy score on testing data: 0.8630\n",
      "F-score on testing data: 0.7395\n",
      "\n",
      "Optimized Model\n",
      "------\n",
      "Final accuracy score on the testing data: 0.8630\n",
      "Final F-score on the testing data: 0.7395\n",
      "<bound method BaseEstimator.get_params of GradientBoostingClassifier(criterion='friedman_mse', init=None,\n",
      "              learning_rate=0.1, loss='deviance', max_depth=3,\n",
      "              max_features=None, max_leaf_nodes=None,\n",
      "              min_impurity_split=1e-07, min_samples_leaf=1,\n",
      "              min_samples_split=2, min_weight_fraction_leaf=0.0,\n",
      "              n_estimators=100, presort='auto', random_state=None,\n",
      "              subsample=1.0, verbose=0, warm_start=False)>\n"
>>>>>>> 61383f78ed6c0d264aa9fc65986d7a5e9ba00576
     ]
    }
   ],
   "source": [
    "# TODO: Import 'GridSearchCV', 'make_scorer', and any other necessary libraries\n",
    "from sklearn.metrics import make_scorer\n",
    "from sklearn.grid_search import GridSearchCV\n",
    "# TODO: Initialize the classifier\n",
    "clf = GradientBoostingClassifier()\n",
    "\n",
    "# TODO: Create the parameters list you wish to tune, using a dictionary if needed.\n",
    "# HINT: parameters = {'parameter_1': [value1, value2], 'parameter_2': [value1, value2]}\n",
<<<<<<< HEAD
    "parameters = {'kernel': ['linear', 'poly', 'rbf', 'sigmoid', 'precomputed'], 'C':[1e-4, 1e-3, 1e-2, 1e-1, 1.0, 10, 1e2],\n",
    "             'max_iter':[1000, 10000]}\n",
=======
    "parameters = {'loss':['deviance', 'exponential'], 'learning_rate':[0.01, 0.03, 0.1]}\n",
>>>>>>> 61383f78ed6c0d264aa9fc65986d7a5e9ba00576
    "\n",
    "# TODO: Make an fbeta_score scoring object using make_scorer()\n",
    "scorer = make_scorer(fbeta_score, beta=0.5)\n",
    "\n",
    "# TODO: Perform grid search on the classifier using 'scorer' as the scoring method using GridSearchCV()\n",
<<<<<<< HEAD
    "grid_obj = GridSearchCV(SVC(), parameters, scoring=scorer)\n",
=======
    "grid_obj = GridSearchCV(clf, parameters, scoring=scorer)\n",
>>>>>>> 61383f78ed6c0d264aa9fc65986d7a5e9ba00576
    "\n",
    "# TODO: Fit the grid search object to the training data and find the optimal parameters using fit()\n",
    "grid_fit = grid_obj.fit(X_train, y_train)\n",
    "\n",
    "# Get the estimator\n",
    "best_clf = grid_fit.best_estimator_\n",
    "\n",
    "# Make predictions using the unoptimized and model\n",
    "predictions = (clf.fit(X_train, y_train)).predict(X_test)\n",
    "best_predictions = best_clf.predict(X_test)\n",
    "\n",
    "# Report the before-and-afterscores\n",
    "print(\"Unoptimized model\\n------\")\n",
    "print(\"Accuracy score on testing data: {:.4f}\".format(accuracy_score(y_test, predictions)))\n",
    "print(\"F-score on testing data: {:.4f}\".format(fbeta_score(y_test, predictions, beta = 0.5)))\n",
    "print(\"\\nOptimized Model\\n------\")\n",
    "print(\"Final accuracy score on the testing data: {:.4f}\".format(accuracy_score(y_test, best_predictions)))\n",
<<<<<<< HEAD
    "print(\"Final F-score on the testing data: {:.4f}\".format(fbeta_score(y_test, best_predictions, beta = 0.5)))"
=======
    "print(\"Final F-score on the testing data: {:.4f}\".format(fbeta_score(y_test, best_predictions, beta = 0.5)))\n",
    "print(best_clf.get_params)"
   ]
  },
  {
   "cell_type": "markdown",
   "metadata": {},
   "source": [
    "Unoptimized model\n",
    "------\n",
    "Accuracy score on testing data: 0.8630\n",
    "F-score on testing data: 0.7395\n",
    "\n",
    "Optimized Model\n",
    "------\n",
    "Final accuracy score on the testing data: 0.8630\n",
    "Final F-score on the testing data: 0.7395"
>>>>>>> 61383f78ed6c0d264aa9fc65986d7a5e9ba00576
   ]
  },
  {
   "cell_type": "markdown",
   "metadata": {},
   "source": [
    "### Question 5 - Final Model Evaluation\n",
    "\n",
    "* What is your optimized model's accuracy and F-score on the testing data? \n",
    "* Are these scores better or worse than the unoptimized model? \n",
    "* How do the results from your optimized model compare to the naive predictor benchmarks you found earlier in **Question 1**?_  \n",
    "\n",
    "**Note:** Fill in the table below with your results, and then provide discussion in the **Answer** box."
   ]
  },
  {
   "cell_type": "markdown",
   "metadata": {},
   "source": [
    "#### Results:\n",
    "\n",
    "|     Metric     | Unoptimized Model | Optimized Model |\n",
    "| :------------: | :---------------: | :-------------: | \n",
    "| Accuracy Score |   0.8630                |    0.8630             |\n",
    "| F-score        |         0.7395          |   0.7395       |\n"
   ]
  },
  {
   "cell_type": "markdown",
   "metadata": {},
   "source": [
    "**Answer: **\n",
    "\n",
    "* A GradientBoostingClassifier with learning rate 0.1.\n",
    "* The optimized Model is totally the same as the original one.\n",
    "* More higher than the Question 1."
   ]
  },
  {
   "cell_type": "markdown",
   "metadata": {},
   "source": [
    "----\n",
    "## Feature Importance\n",
    "\n",
    "An important task when performing supervised learning on a dataset like the census data we study here is determining which features provide the most predictive power. By focusing on the relationship between only a few crucial features and the target label we simplify our understanding of the phenomenon, which is most always a useful thing to do. In the case of this project, that means we wish to identify a small number of features that most strongly predict whether an individual makes at most or more than \\$50,000.\n",
    "\n",
    "Choose a scikit-learn classifier (e.g., adaboost, random forests) that has a `feature_importance_` attribute, which is a function that ranks the importance of features according to the chosen classifier.  In the next python cell fit this classifier to training set and use this attribute to determine the top 5 most important features for the census dataset."
   ]
  },
  {
   "cell_type": "markdown",
   "metadata": {},
   "source": [
    "### Question 6 - Feature Relevance Observation\n",
    "When **Exploring the Data**, it was shown there are thirteen available features for each individual on record in the census data. Of these thirteen records, which five features do you believe to be most important for prediction, and in what order would you rank them and why?"
   ]
  },
  {
   "cell_type": "markdown",
   "metadata": {},
   "source": [
    "**Answer:**\n",
    "\n",
    "1. Age : Younger means the experience is not enough to get a high-paid job.\n",
    "2. relationship : The couple can save money and earn more.\n",
    "3. edcatuion_level : More knowledge you have more income should be."
   ]
  },
  {
   "cell_type": "markdown",
   "metadata": {},
   "source": [
    "### Implementation - Extracting Feature Importance\n",
    "Choose a `scikit-learn` supervised learning algorithm that has a `feature_importance_` attribute availble for it. This attribute is a function that ranks the importance of each feature when making predictions based on the chosen algorithm.\n",
    "\n",
    "In the code cell below, you will need to implement the following:\n",
    " - Import a supervised learning model from sklearn if it is different from the three used earlier.\n",
    " - Train the supervised model on the entire training set.\n",
    " - Extract the feature importances using `'.feature_importances_'`."
   ]
  },
  {
   "cell_type": "code",
   "execution_count": 81,
   "metadata": {},
   "outputs": [
    {
     "data": {
      "image/png": "iVBORw0KGgoAAAANSUhEUgAAAoAAAAFgCAYAAAArYcg8AAAABHNCSVQICAgIfAhkiAAAAAlwSFlz\nAAALEgAACxIB0t1+/AAAIABJREFUeJzs3XmcFNW5//HPI6CAICjiCgoaFEUQcUCWiGiionG9LrhG\njEpQiUvUX9CbGGM00Su5QVyCaAjuRCAarhIlGhBlICyKqIACihE3EEXZZXl+f5zTQ03TM9MDMz1A\nfd+vV79muurUqdNV1VVPnaXa3B0RERERSY8daroAIiIiIlJYCgBFREREUkYBoIiIiEjKKAAUERER\nSRkFgCIiIiIpowBQREREJGUUAG7lzKy3mbmZLTWzXbPm1Y7zbquh4m22xOdqkZi2wMyG1WQZcqR5\nyMxWmdmOWdN7xWWfybHMCDNbbGZWyfJs1r40sx5x2R9WkK6xmd1mZh0qu45y8jzVzN42s9WxDI2r\nKu8c6/IyXk8k0iw0s0eqaH3HVWZ/xHXnKt/4RJrJZvZiVZSvEuUaHssxv4z5v4/z11XDumvHY657\nnun7Zm27ZWb2Zpxe7dcrM7vLzFYn3teN5ehfyXxuNLPTKsq/EHJs0+Tr+9W0zrPN7JrqyFuqTu2a\nLoDkrRHwC6BSJ6JtzJnAtzVdiCwTgD5AJ+D1xPTuwErg6BzLHA285pV/yGYXYOHmFDJPjYFfx3W8\nsaWZmVlt4EmgGLga+A5YtqX5VmAY8FDWtMWJ/08FvqmidR0H/DdwWyWWGQP8Nmta8pi+DFi/ZcXa\nLMuBA8ysm7tPzEyMQdVFhP1WvxrWW5twzK0jfJfydRphvzYCzgf+BOwG/K6qC1iBNYTv5X8qudyN\nwPPA6KzpDwB/q4JybY7MNk16t5rWdTZQBAyqpvylCigA3HaMBX5mZn909y+qYwVmtpO7r6mOvPPh\n7m/W1LrL8Wr8251NA8CHgWvN7CB3fx/AzA4G9qRyFzsA3H3yFpa10PYFGgLPuHulP282M6sFmLuX\nVxP1SXnbKZ9jqJqP88UVlK+6LrgV+QJ4C7gYmJiYfhywN/AUcEENlKssb7p75mboJTM7CLiOMgLA\nWNtex92/q8pCxJu4KvteuvvHwMdVlV8lJbfpNifP84NUgpqAtx13xL+/rCihmXUys5fNbLmZrTCz\nV8ysU1aaYbHJqouZFZvZKuB/4rwFZvaEmV1sZu/FJtDXzKyVme0cm0WXmNkXZvaHWBOUybeumf3R\nzN6J6//czP7PzFrnUe6SJmAza1FOs8X4xDK1zexmM5tjZmvM7NNYprpZeR9gZi+Y2UoLzbP3AjtV\nVKZ4wvyQEPBl8toNaEO4aH6UnJf4/9XENMysj5m9FZtKvzSzP8d8kmk2aQI2s/PjZ1ttoan1NDMb\nn9wGCfXN7P6Y/5dxHzbObM/4OQAeTmzL3nH+ifE4+Cbut/fM7Naytkss54L49s/J/WLB9TGP78zs\ns1iuXXJ83jvNrL+ZfUioQWxb1jrzYVlNwGZ2eVxPNzMbZWbfEAMgM+scvydfxeNivpndF+fdQaj9\nSzY9b/GFxxJNwGa2v5ltMLM+OdLdGvd548S0XmY2JZb1awtNu/tWYvWPAeda6e4MPwZeAT7NUYad\nLDRZfhT344cWmnOT3/c6FpqQP0gc26+Z2VHxO7gqJv1tYjtuTivGNKBp5hiK55VHLDRvvg+sBX4Q\n5zWM54BMueeb2f8zK90lw8J5sjiW++Nc5bIymoDN7EgzGx2PnVVmNtvMbsyUjXATeFniMw+O87Kb\nmOeZ2VM51ts9LndS1jqft9AdaJWZTTCzLpuxLXMysz3N7OH4fV1jZrPM7NKsNHvHNPNiGf5jZo+Z\n2V6JNMOBXsCBic8/J87LNEfvlZVvWU3vt5rZr8zsI8L5oVUlyrqvmT2ZSPNp3GelulKlmWoAtx2f\nAfcD15nZAHf/KFciM2tHCD5mAb0BJzQbv2pmnd39rUTyRsBwYABwCxtP1hACmQMJzc47AgOBUcAH\nwDzgvJjml8B84MG43E7ALsDvgU+AXYGrgElmdoi7f16Jz5t9cmsDDAFmJ6Y9QWj2u5vQFHkIoQmu\nBXBW3CY7Av8E6hGaKhcBPwX+K8+yTAD+y8xquft6QhPvSkIz6muE7ZAJOroTmiBLtrOZ3QXcQGgO\nuYlQc3YHcJiZdY15bsLMjic0sY4Gfg40JeyHusD7ORa5l9DsdAFwMCGgXw9cQtie/0Vofvo9G5um\n5pvZAfH9SOB2Np5oDyhnmzwCvAOMiJ/lBTY2dd4J3Exo7vo/4FDCPjnczI5x9w2JfHoTjqkbgRXk\nCESyWDIAAcizRuBpQsD+J6CWmTUC/gFMIgRBywnHTOeYfjBhP/Vm43GYT5P+JuUD1ufqDuDuH5nZ\nBEIT7JCs2RcB/+fuS2Om1wH/S6h1/jWhOf92YJyZtXf3lXmU7RnCMXIK8Dcz25lwTPyU3IH304Tv\n1m8JtWDdgV8B+wE/iWluJXynbiYcD40I3SV2IzSfHkM4Hz1EaL6HyjenQjgWv6P0OeokoGMs0xJg\nXvyuvwy0jOWeDXQjHKON2BjU7xXTfUSoFV1PONftU1FBLPSbeznmfQ3hmD04vgBOJpxvXid81yDU\nwObyBHCTmTVw9+WJ6RcDnxNafjCzzsA4wn64DFgN9AP+ZWad3P3tispNOO6Tx+aGzHcxBkWT4vRf\nEvbRjwg3d7Xd/eE4b3fC9/Rmwnl0X8I5bYKZtXH3tXH5JkBr4Jy4XHK/VcZPgfcItb+rgUWVKOvw\nWI6fE65FewHHE86fAuDuem3FLzYGcd8jnFSXAkPjvNpx3m2J9CNjmsaJabsAXwF/S0wbFpc9Pcc6\nF8T0jRLTronpH8lK+wYwrpzy1yL0LVoGXJ/jc7XIWu+wMvJpSggUioG6cdrRMY8fZ6W9ME5vH99f\nEd93TqTZgdD/pVQZylj3pTFdUXz/B+Dl+H8fYEEi7UfAC4n3LQgXl1uz8uwW8zwjMS17XxYTLqqW\nmHZkTDc+Ma1HnPZo1jruJ5w0LVEWBy7PSnd2nL5LJY/N78XleiemZS78w7LSXhTTnpb1eT8F6uW5\nPi/j9b1EmoXJYxS4PKa5JyuvznH6oeWs7w5iK2Ce5VtYRvl6JNJMBl5MvL8M2EDp70GmbKfF940J\nF90Hs9Z3EKFvXd8KyjUcmBf/fwZ4Lv7/Y0LQXh+4C1iXWKYolqF/rm0CHBzfvww8Vc6668b0v8xz\nG/aN6fcnnN+aAD+L22h4It3nhHPK7lnLXxHTHpU1/beEIKRx4ju8CtgrkaYR4dy5Okf5+yemTSGc\ni+qW8zk+J+tcGafflZX/gTH/S7LWuRT438S0iYSbytqJaXUIN9/DyypH1jbNfr2cSHNnPMZaZC37\nOOE7ukMZedcm3Cw6cFKuY66MsuyVNT17u2S2+wJgx6y0FZYVMMINQ598v79pfKkJeBvi7l8RTlw/\nttDXLJfuwPMeaw7ict8SaniOyUq7llBjlMskd092pp8T/76UlW4O0Dw5wczONbN/m9lSwgVqBdCA\njXfIlRLv6p+Nb09390xTQU/Cl3ykhabg2vEOd2ycn2mO7QJ87Im+WR7ufDcZwVuGTP+27om/r8X/\nXwf2N7PmZrY/oXYk2fx7POGE9GRWGf9NuIDlHB1pob9LETDK49ktlns6G5tys72Q9f5tQo3snhV8\nvhmEY2G4hdF7e1SQvjydCTXGT2RNH044FrKPwRfdvTK1A0MJtT7JVz59qp7Nev8eIfh52MwuNLNm\nlShDeZ7PUb7p5aQfQQiYL0pMuxj4klBDCeFGpz6bHkMfxFdeI2yjx4CTzawJIQAc5blrDzN5Zu/H\nJ7LmTwXOMLPbzayrmdWpRFnKs4BwTH4J/BH4CyF4SHrN3b/MmtaTUDs+Pcc5oS6hdhLCOeE1T7RI\nxPPdPyiHhSb5jsBjifPQZnP3+YQbvYsTk08lBKOPx3XuEsv71/g+85kc+Bf57/8fUfq4vCoxryfh\nXLYwa7u9ROgj+r24bjOzayx0R1lO2EeZ1ojNOr9XYIxv2q+zwrLGc+Z04BYz62dmbaqhbNs8BYDb\nnj8SauduL2P+boTmvmyfE5pjkxZ7Gc2PwNdZ778rZ3pJlbqZnUo4Uc0mNEUeRTjZLGbzq94fAQ4D\nfuTuyVFsexCCjRWEE1HmtSjObxL/7k3uJpi8BtPEk/QnQHczawAcwcYAcDah+ekYNp6IkwMiMsHU\nvKwyriUMoGhCbrsT7vAX5ZhXVrm/ynqfGehQ7nZ393nAiYTzwePA5xb6qmUHa/nI9GssdQx6aKZd\nkphPrnR5+Mzdp2W98hnQkV2er4FjCdtyMPBxvKidUcnyZFuSo3xljoyON2d/JwaAMYDqRajVWRuT\nZY6h19n0GGpF2cdQLi8SvsM3Ej7/Y2Wky+yn7C4bn2fNv41QI3M2oZbqy9g3a0v7WWWCldbAzu5+\nWfKmNsp17OxBCESyt1PmO7ml54TM8lU5mOJx4Fjb2J/zYuAd3zigqSmhRutONv1cl5P//p+ZdVwm\nu5HsAZyQI//H4/zMOm4kdEN5gfDUhk5svKmrjqbVsvZxPmU9k3C8/zfwjoX+wTebVe7xXNsz9QHc\nxrj7cjP7PaEm8J4cSb4i9HXIthebBm+eI92WOo9Q9d87MyFe1LIv/Hkxs1sIj4E4yd1nZ81eQmji\nzPUoFtjYn+wzQv/BbBXVjCVNIJx0vk9oYpoMoX3QzF4nBH9G6BuYrPFZEv+ewKbbPzk/25eEk1qu\n2rg92bx+VGVy93GE/mQ7EZqnbwdeMLMWOWpZypMJQvci8YiJeIfehE2D1Oo4BnPZZD3u/gahb2dt\nQrDx34Ta5MPcfU52+mr0ONDLzDoSApMmbLyYwcZj5AJgbo7l8350kruvM7Ongf9HCGLGl5E0s5/2\nJNz8ZOyVnB+D7zuBO81sb8KjRv5AuDG7JN9y5TDTKx6xmuvYWUKo3b0oxzwINaYQzgm5vv8VnRMy\n+6Iyg28q8ldC38wLzGwooYYrOdgvsy/+QKhJz1YV36ElhJvUm8qYn/k+nEeolSsZFGNmh1RiPZla\n0x2zppcVxJa1jyssa6zd7Qv0NbNDCV15fke4iflLJcq83VIAuG16kNCx9Y4c814lNPE0zNQ8mFlD\nQrPC+AKUrT6hqS/pYkJfwEoxs7MIn7Gvu7+cI8mLhI7bjdz9lXKymgRcGgfBTI557wCcW4niTCAE\nolcCb2Q1m71OuBM3oDhRcwOhM/gGYD93/2e+K3P39WY2DTjLzG7LNAOb2ZGEDu6bEwBmasrqlbPe\nNYSO5Q0INVMtCcFoviYTaoXPI4wuzehFON+Mr0ReBRFrJydZGPX8I8JAojnE7WVm9SrZTF1ZLxFq\nei8mBIDvufuUxPwJhP5qB7j701WwvkcI/UFfSHYvyJLpxnAeIfDIuDBrfgl3/wx4yMxOJ9TYQzgW\nnHKOuSr2IiGA+jrW3JdlEnCVme2VaQaOA4NOKmcZ3H2pmU0hdMO5q5za5zXk+Znd/Wsze56w/1cS\nzpVPZs3/N9AOuKmcfbYlXiQOyIpdjcpSn3BjmnRpjnRlff7M4MXDiOeweNP5g2ooawl3n0UYbHMV\nG4/N1FMAuA1y9zVmdjubjhyE0Nn5FOAVM7ubcPL9BeGLW1azcVV6kdAn6I+E/lBFhE7c2c035Yoj\nUx8j9N2ZGUfBZXzr7rPcfXyszRhpZv9L6Jy9gXBxOxn4RWzmeJQwEvpvsUZxEeHOsNRjSSqQaUI6\nldIXRAjNwZna2FJ9ptx9ftwP98d+m68S7oKbE/oHPhJr33L5dfz8z5rZEEKz8G2EO9gNZSxTni8I\nd8/nmdlMQtP5h4SRet0JDzH+OK7nZkIN6juVWYG7f2VmfwBuNrMVMc9DCIH862zaT7FGxCDlJ8Bz\nhP5mDQgjDb8l9M+EMJIe4EYzG0sYJFFef77NkqiVuyiW47dZ87+y8BiSP5jZPoSAcRmhFupY4B/u\nPrIS63sHKLep292nm9mzwO8sPM5lCqGm/WbgL77xuZf/IGyvNwnf8SLCswX/GPPZYGbvAaeb2b8I\nI+QXev5PA6isvxBqHsfF4/AdQj/Y7xFqJ0+M3V7uIQwY+Wc8l64jnCOWUXFT5s8JNzcT43nu05j/\nIe7+85hmFqFZ92TC+WaRu5d30/Y4oZ/qzcC/3P2TrPnXEfr7jbHwqKzPCU3DRcBad/9VBWWuyP8Q\nmvFfN7OBhH59DQnf3aPc/ayY7kXC82j/H2EA4InkPpZmEYLky4CZwEoPz8CcSDjH/DEGfhsI14fK\ndEersKxmtifhBvYpQo3w+rhMPcJNuYBGAW/tLxKjgLOm1yYc+KVGjsZ5RxFG5y0nXORfATplpRlG\nOBHnWucC4ImsaT3iun5YXj6EL/IdhJPiSkLAcwRZI3ypYBRwYn25XuOz1nctYYTcajY+guV/KD2K\n+QBCMLKS0B/xXsIjBkqVoYJ9sYiskaxxep24nR04poxlLybUjq2I+2U2YZRus0SaXPvyAsIJbA2h\nSfVMwsX22Tz2Ta5tfAbh5Lw2zutN6GD+d8KJeQ2heWwEcaRnOdtjk1HAcboB18dyfxfze4CsUcZx\n2Tsq8V2oMD1ljwJukZXuEMIgoA/jcbOIEJwWZX3HBsfjZQOJUbLlrHtYBWlKjQJOTM+M7t4A7F/G\nsqcTvk/L4nE8l1CbV9F+yjkiMyvNXdmfjxA43UWoqfkubqvbKD0S9WZCAPhVLNMcQvNlrazjc0Y8\ntkqNqM1Rjswo0WYVlDfnKNs4rz7hHPR+XOeSWMZbKT2ivhNhAMaaeOz3p+zRqNmjoTsSziffxM89\nC/h5Yn5bQrCzMi4/OLGdV+co846EmnYn66kGWXmOiMdjpszPAidUsK3y3aZNCI+qyjxz74t4vF2V\nSNOA8CiixYSbpecIo9FLbSPCzfUIwk2BA3MS8w4n3DQvJ5zz+5Wz3XOOHq+orMDOsZyz4nq+IXz3\nzilvG6TtlXk8hIhsA+Jo1XnAne6e/ZNjIiIieVEAKLKVMrN6hIf/vkyoHTiA0Hl/T6CNhz5XIiIi\nlaY+gCJbr/WEUZf3E5o8VhCaTs5R8CciIltCNYAiIiIiKaMHQYuIiIikzDbdBLz77rt7ixYtaroY\nIiIiIluF6dOnf+nuTStKt00HgC1atGDatGk1XQwRERGRrYKZfVRxKjUBi4iIiKSOAkARERGRlFEA\nKCIiIpIy23QfQBGpnLVr17Jw4UJWr15d00URqVDdunVp1qwZderUqemiiGx3FACKpMjChQtp2LAh\nLVq0wMxqujgiZXJ3lixZwsKFC2nZsmVNF0dku6MmYJEUWb16NU2aNFHwJ1s9M6NJkyaqrRapJgoA\nRVJGwZ9sK3SsilQfBYAiIiIiKVOwPoBm1hO4F6gFPOLud+VI0wMYCNQBvnT3YwpVPpE0skertobF\nL6n4t8Vr1apF27ZtS94/99xzVPYXfZYuXcpTTz3FVVddVdkiVsjdadq0KXPnzmXXXXfls88+Y599\n9uG1117j+9//PgBNmzZlzpw5NGnSJGceo0ePZtasWfTv37/M9YwfP54BAwbw/PPPbzJv4MCB9OnT\nh/r161fNhxIRyVKQGkAzqwU8AJwEHAqcb2aHZqVpDDwInObubYBzClE2ESmsevXqMWPGjJLX5vyc\n49KlS3nwwQcrvdz69esrTGNmdO7cmUmTJgFQXFzMEUccQXFxMQDvvfceTZo0KTP4AzjttNPKDf4q\nMnDgQFauXLnZy4uIVKRQTcCdgHnu/oG7fwcMB07PSnMB8Dd3/w+Auy8qUNlEpIatX7+em266iY4d\nO9KuXTseeughAJYvX84PfvADOnToQNu2bfn73/8OQP/+/Zk/fz7t27fnpptuYvz48Zxyyikl+fXr\n149hw4YB4Scjf/GLX9ChQwdGjBjB/Pnz6dmzJ0ceeSRHH300c+bM2aQ8Xbt2LQn4iouLuf7660sF\nhN26dQNg8eLFnHXWWXTs2JGOHTsyceJEAIYNG0a/fv0AmD9/Pp07d6Zt27b88pe/pEGDBiXrWb58\nOWeffTatW7fmwgsvxN0ZNGgQn376KcceeyzHHntsVW5mEZEShQoA9wU+TrxfGKclHQTsambjzWy6\nmf04V0Zm1sfMppnZtMWLF1dTcUWkuqxatYr27dvTvn17zjzzTAD+/Oc/06hRI6ZOncrUqVN5+OGH\n+fDDD6lbty7PPvssb7zxBuPGjeOGG27A3bnrrrs48MADmTFjBvfcc0+F62zSpAlvvPEG5513Hn36\n9OG+++5j+vTpDBgwIGczcrdu3UoCwClTpnDmmWfy8cfhFFZcXEzXrl0BuPbaa7n++uuZOnUqo0aN\n4vLLL98kr2uvvZZrr72Wt99+m2bNmpWa9+abbzJw4EBmzZrFBx98wMSJE7nmmmvYZ599GDduHOPG\njavcxhURydPW9BzA2sCRwA+AesAkM5vs7u8nE7n7EGAIQFFRUcUdjkRkq5JpAk4aO3YsM2fOZOTI\nkQB88803zJ07l2bNmnHLLbcwYcIEdthhBz755BO++OKLSq+zV69eQKhxKy4u5pxzNvYwWbNmzSbp\nO3bsyJtvvsmKFStYu3YtDRo04IADDmDevHkUFxdzww03APDyyy8za9askuW+/fZbli9fXiqvSZMm\n8dxzzwFwwQUXcOONN5bM69SpU0lQ2L59exYsWFDSz1Bka2SPPlptefsll1Rb3rKpQgWAnwDNE++b\nxWlJC4El7r4CWGFmE4DDgfcRke2au3Pfffdx4oknlpo+bNgwFi9ezPTp06lTpw4tWrTI+Vy42rVr\ns2HDhpL32Wl23nlnADZs2EDjxo03CUCz1a9fn1atWjF06FA6dOgAQOfOnRkzZgyLFi3i4IMPLslv\n8uTJ1K1bt/IfGthpp51K/q9Vqxbr1q3brHxERCqrUE3AU4FWZtbSzHYEzgNGZ6X5O/B9M6ttZvWB\no4DZBSqfiNSgE088kT/96U+sXbsWgPfff58VK1bwzTffsMcee1CnTh3GjRvHRx99BEDDhg1ZtmxZ\nyfL7778/s2bNYs2aNSxdupRXXnkl53p22WUXWrZsyYgRI4AQeL711ls503bt2pWBAwfSpUsXALp0\n6cK9995L586dS55Pd8IJJ3DfffeVLJMrsOzcuTOjRo0CYPjw4Xltj+zPJyJS1QpSA+ju68ysH/AS\n4TEwQ939XTPrG+cPdvfZZvYiMBPYQHhUzDuFKJ9IWuXz2JZCuPzyy1mwYAEdOnQoeQzLc889x4UX\nXsipp55K27ZtKSoqonXr1kDo09etWzcOO+wwTjrpJO655x7OPfdcDjvsMFq2bMkRRxxR5rqefPJJ\nrrzySu644w7Wrl3Leeedx+GHH75Jum7dunHvvfeWBIAdOnRg4cKFpfr5DRo0iKuvvpp27dqxbt06\nunfvzuDBg0vlM3DgQC666CLuvPNOevbsSaNGjSrcHn369KFnz54lfQFFRKqauW8dF4DNUVRU5NOm\nTavpYohsM2bPns0hhxxS08VIlZUrV1KvXj3MjOHDh/P000+XjGaWiumY3bqoD+DWz8ymu3tRRem2\npkEgIiLbnenTp9OvXz/cncaNGzN06NCaLpKIiAJAEZHqdPTRR5fZz1BEpKbot4BFREREUkYBoIiI\niEjKKAAUERERSRkFgCIiIiIpo0EgIilW1Y90yOcxDp9//jnXXXcdU6dOpXHjxuy5554MHDiQgw46\nqErLktSjRw8GDBhAUVHZT0YYOHAgffr0oX79+gCcfPLJPPXUUzRu3HiL1t2iRQsaNmxIrVq1AHjw\nwQdLfku4Mn73u99xyy23bFFZynLEEUfwl7/8hfbt27Nu3ToaN27M4MGDueiiiwA48sgjefjhh0t+\nFSXbtGnTeOyxxxg0aFCZ61iwYAGnnHIK77yz6eNdhw0bxgknnMA+++xTNR9IRCqkGkARKRh358wz\nz6RHjx7Mnz+f6dOn8/vf/36zft+3qg0cOJCVK1eWvB8zZswWB38Z48aNY8aMGcyYMWOzgj8IAWBl\n5fvTct26daO4uBiAt956i4MOOqjk/YoVK5g/f37Oh2VnFBUVlRv8VWTYsGF8+umnm728iFSeAkAR\nKZhx48ZRp04d+vbtWzLt8MMP5+ijj2b8+PGccsopJdP79evHsGHDgFCLdvPNN9O+fXuKiop44403\nOPHEEznwwANLfnmjvOWTrrzySoqKimjTpg2//vWvgfCLHp9++inHHnssxx57bMk6v/zyS/r3788D\nDzxQsvxtt93GgAEDALjnnnvo2LEj7dq1K8krX2Ute8YZZ3DkkUfSpk0bhgwZAkD//v1ZtWoV7du3\n58ILL2TBggUcdthhJcsMGDCA2267DQi1nddddx1FRUXce++9LF68mLPOOouOHTvSsWNHJk6cuElZ\nunbtWhLwFRcX07dv35KftZsyZQpHHnkktWrVYsWKFfzkJz+hU6dOHHHEESUPtE5u+8WLF3P88cfT\npk0bLr/8cvbff3++/PJLANavX88VV1xBmzZtOOGEE1i1ahUjR45k2rRpXHjhhbRv355Vq1ZVajuK\nyOZRACgiBfPOO+9w5JFHbtay++23HzNmzODoo4+md+/ejBw5ksmTJ1c68LrzzjuZNm0aM2fO5NVX\nX2XmzJlcc801JT+7lv3Ta7169eKZZ54pef/MM8/Qq1cvxo4dy9y5c5kyZQozZsxg+vTpTJgwIec6\njz32WNq3b89RRx0FUO6yQ4cOZfr06UybNo1BgwaxZMkS7rrrLurVq8eMGTN48sknK/yM3333HdOm\nTeOGG27g2muv5frrr2fq1KmMGjWq1E/ZZSRrAIuLi+nevTs77bQTy5Yto7i4uKTW8s477+S4445j\nypQpjBs3jptuuokVK1aUyus3v/kNxx13HO+++y5nn302//nPf0rmzZ07l6uvvpp3332Xxo0bM2rU\nKM4++2yKiop48sknmTFjBvXq1avw84nIllMfQBHZJpx22mkAtG3bluXLl9OwYUMaNmzITjvtxNKl\nS/PO55lnnmHIkCGsW7eOzz77jFmzZtGuXbsy0x9xxBEsWrSITz/9lMWLF7PrrrvSvHlz7r33XsaO\nHVvyu8MBbYGUAAAgAElEQVTLly9n7ty5dO/efZM8xo0bx+67717yfuzYsWUuO2jQIJ599lkAPv74\nY+bOnUuTJk3y/nwQgtaMl19+mVmzZpW8//bbb1m+fDkNGjQombb//vvz3Xff8fnnnzNnzhwOPvhg\nOnbsyL///W+Ki4v52c9+VlLu0aNHl9SArl69ulSAB/D666+XlL9nz57suuuuJfNatmxJ+/btgdCv\ncMGCBZX6XCJSdRQAikjBtGnThpEjR+acV7t2bTZs2FDyfvXq1aXm77TTTgDssMMOJf9n3q9bt67C\n5QE+/PBDBgwYwNSpU9l1113p3bt3znTZzjnnHEaOHMnnn39eEly5OzfffDM//elPK1w+W1nLjh8/\nnpdffplJkyZRv359evTokbN8FX3WnXfeueT/DRs2MHnyZOrWrVtumbp27cqIESPYe++9MTM6d+7M\nxIkTmTJlCl26dCkp96hRozj44INLLZtvH87kfqtVq5aae0VqkJqARaRgjjvuONasWVPStw1g5syZ\nvPbaa+y///7MmjWLNWvWsHTpUl555ZVK5Z3P8t9++y0777wzjRo14osvvuAf//hHybyGDRuybNmy\nnHn36tWL4cOHM3LkSM455xwATjzxRIYOHcry5csB+OSTT1i0aFFeZS1r2W+++YZdd92V+vXrM2fO\nHCZPnlyyTJ06dVi7di0Ae+65J4sWLWLJkiWsWbOG559/vsx1nXDCCdx3330l7zN9+7J17dqVgQMH\nlgR7Xbp04bHHHmOvvfaiUaNGJeW+7777cHcA3nzzzU3y6datW0mT+dixY/n6668r3B7lbXsRqR6q\nARRJsXwe21KVzIxnn32W6667jrvvvpu6devSokULBg4cSPPmzTn33HM57LDDaNmyZUnzaL7yWf7w\nww/niCOOoHXr1jRv3pxu3bqVzOvTpw89e/Ys6QuY1KZNG5YtW8a+++7L3nvvDYTAavbs2SUBU4MG\nDXjiiSfYY489KixrWcv27NmTwYMHc8ghh3DwwQfTuXPnUuVr164dHTp04Mknn+TWW2+lU6dO7Lvv\nvrRu3brMdQ0aNIirr76adu3asW7dOrp3714ycCapW7duXH/99SVl2nvvvVm/fn2pUcu/+tWvuO66\n62jXrh0bNmygZcuWmwSfv/71rzn//PN5/PHH6dKlC3vttRcNGzYsCXZz6d27N3379qVevXpMmjRJ\n/QBFCsAyd3LboqKiIp82bVpNF0NkmzF79mwOOeSQmi6GbMfWrFlDrVq1qF27NpMmTeLKK68ss9Yx\nHzpmty5V/ezQpELfkG6vzGy6u5f90NNINYAiIlJl/vOf/3DuueeyYcMGdtxxRx5++OGaLpKI5KAA\nUEREqkyrVq1y9g0Uka2LBoGIpMy23O1D0kXHqkj1UQAokiJ169ZlyZIlurDKVs/dWbJkSYWPrxGR\nzaMmYJEUadasGQsXLmTx4sU1XRSRCtWtW5dmzZrVdDFEtksKAEVSpE6dOrRs2bKmiyEiIjVMTcAi\nIiIiKaMAUERERCRlFACKiIiIpIwCQBEREZGUUQAoIiIikjIKAEVERERSRgGgiIiISMooABQRERFJ\nGQWAIiIiIimjAFBEREQkZRQAioiIiKSMAkARERGRlFEAKCIiIpIyCgBFREREUkYBoIiIiEjKFCwA\nNLOeZvaemc0zs/455vcws2/MbEZ83VqosomIiIikSe1CrMTMagEPAMcDC4GpZjba3WdlJX3N3U8p\nRJlERERE0qpQNYCdgHnu/oG7fwcMB04v0LpFREREJKFQAeC+wMeJ9wvjtGxdzWymmf3DzNoUpmgi\nIiIi6VKQJuA8vQHs5+7Lzexk4DmgVXYiM+sD9AHYb7/9CltCERGpFHv00WrL2y+5pNryFtneFaoG\n8BOgeeJ9szithLt/6+7L4/9jgDpmtnt2Ru4+xN2L3L2oadOm1VlmERERke1SoQLAqUArM2tpZjsC\n5wGjkwnMbC8zs/h/p1i2JQUqn4iIiEhqFKQJ2N3XmVk/4CWgFjDU3d81s75x/mDgbOBKM1sHrALO\nc3cvRPlERERE0qRgfQBjs+6YrGmDE//fD9xfqPKIiIiIpJV+CUREREQkZRQAioiIiKSMAkARERGR\nlFEAKCIiIpIyCgBFREREUkYBoIiIiEjKKAAUERERSRkFgCIiIiIpowBQREREJGUUAIqIiIikjAJA\nERERkZRRACgiIiKSMgoARURERFJGAaCIiIhIyigAFBEREUkZBYAiIiIiKaMAUERERCRlFACKiIiI\npIwCQBEREZGUUQAoIiIikjIKAEVERERSRgGgiIiISMooABQRERFJGQWAIiIiIimjAFBEREQkZRQA\nioiIiKSMAkARERGRlFEAKCIiIpIyCgBFREREUkYBoIiIiEjKKAAUERERSRkFgCIiIiIpowBQRERE\nJGUUAIqIiIikjAJAERERkZRRACgiIiKSMgoARURERFKmYAGgmfU0s/fMbJ6Z9S8nXUczW2dmZxeq\nbCIiIiJpUpAA0MxqAQ8AJwGHAueb2aFlpLsbGFuIcomIiIikUaFqADsB89z9A3f/DhgOnJ4j3c+A\nUcCiApVLREREJHUKFQDuC3yceL8wTithZvsCZwJ/Ki8jM+tjZtPMbNrixYurvKAiIiIi27utaRDI\nQOAX7r6hvETuPsTdi9y9qGnTpgUqmoiIiMj2o3aB1vMJ0DzxvlmcllQEDDczgN2Bk81snbs/V5gi\nioiIiKRDoQLAqUArM2tJCPzOAy5IJnD3lpn/zWwY8LyCPxEREZGqV5AA0N3XmVk/4CWgFjDU3d81\ns75x/uBClENEREREClcDiLuPAcZkTcsZ+Ll770KUSURERCSNtqZBICIiIiJSAAoARURERFKmYE3A\nIiIVsUcfrba8/ZJLqi1vEZFtjWoARURERFJGAaCIiIhIyigAFBEREUkZBYAiIiIiKaMAUERERCRl\nFACKiIiIpIwCQBEREZGUUQAoIiIikjIKAEVERERSRgGgiIiISMooABQRERFJmbwDQDM7p4zpZ1dd\ncURERESkulWmBvDPZUwfUhUFEREREZHCqF1RAjM7IP67g5m1BCwx+wBgdXUUTERERESqR4UBIDAP\ncELgNz9r3ufAbVVcJhERERGpRhUGgO6+A4CZverux1R/kURERESkOuXdB1DBn4iIiMj2IZ8mYABi\n/787gfZAg+Q8d9+visslIiIiItUk7wAQeIrQB/AGYGX1FEdEREREqltlAsA2QDd331BdhRERERGR\n6leZ5wBOAI6oroKIiIiISGGUWwNoZrcn3i4AXjSzZwmPfynh7rdWfdFEREREpDpU1ATcPOv980Cd\nHNNFREREZBtRbgDo7pcWqiAiIiIiUhiVeQzMAWXMWgN8psEhIiIiItuGyowCzvwkHISfhfPEvA1m\nNhq4yt2/qKrCiYiIiEjVq8wo4CsIzwI8CKgLHAw8DlwFtCUEkw9UdQFFREREpGpVpgbwN8D33H11\nfD/PzK4C3nf3h8ysNzC3qgsoIiIiIlWrMjWAOwAtsqbtB9SK/6+gcgGliIiIiNSAygRsA4F/mdlf\ngI+BZsClcTrAycCkqi2eiIiIiFS1vANAd/8fM5sJnAN0AD4DLnP3F+P854DnqqWUIiIiIlJlKtVk\nG4O9F6upLCIiIiJSABX9FNx/u/ud8f/by0qnn4ITERER2XZUNAikWeL/5uW8KmRmPc3sPTObZ2b9\nc8w/3cxmmtkMM5tmZt/P7yOIiIiISGVU9FNwVyb+3+yfhTOzWoRnBB4PLASmmtlod5+VSPYKMNrd\n3czaAc8ArTd3nSIiIiKSW2UeA4OZtTazX5nZ/fH9wTFYq0gnYJ67f+Du3wHDgdOTCdx9ubtnfl1k\nZ0r/0oiIiIiIVJG8A0AzOwd4DdgX+HGc3BD43zwW35fw6JiMhXFa9jrONLM5wAvAT/Itm4iIiIjk\nrzI1gLcDP3T3vsD6OO0t4PCqKoy7P+vurYEzgN/mSmNmfWIfwWmLFy+uqlWLiIiIpEZlAsA9gJnx\nf0/8zaep9hNKDxZpFqfl5O4TgAPMbPcc84a4e5G7FzVt2jSvgouIiIjIRpUJAKcDF2dNOw+Yksey\nU4FWZtbSzHaMy41OJjCz75mZxf87ADsBSypRPhERERHJQ2UeBH0NMNbMLgN2NrOXgIOAEypa0N3X\nmVk/4CXCbwcPdfd3zaxvnD8YOAv4sZmtBVYBvRKDQkRERESkilQYAJrZucAEd59jZq2BU4DnCYM6\nnnf35fmsyN3HAGOypg1O/H83cHclyi4iIiIimyGfGsA7gAPNbD4wAXgVeMbdP6rWkomIiIhItaiw\nD6C7H0R4ZMt/E5pmbwDmm9lHZva4mV1ezWUUERERkSqU1yAQd//c3Ue4+8/cvT3QlI2/7PFQdRZQ\nRERERKpWXoNA4ujc9kD3+OoKfEr4ubbXqq10IiIiIlLl8hkE8gJwBPAe8DowBOjt7suquWwiIiIi\nUg3yaQI+CFgDfAjMJ/ymr4I/ERERkW1UhTWA7t7KzPYCjiY0/14Xf6FjIqH593V3n1G9xRQRERGR\nqpJXH0B3/xwYEV+Y2a7AFcAvCQNCalVXAUVERESkam3uIJDvA42BacDQaiudiIiIiFS5fAaBjAG6\nADsC/yY8CPp+YJK7r67e4omIiIhIVcunBnAC4ddAprr72mouj4iIiIhUs3wGgdxViIKIiIiISGHk\n1QdQZGtkjz5arfn7JZdUa/4iIiI1Ja+fghMRERGR7YcCQBEREZGUUQAoIiIikjIKAEVERERSRgGg\niIiISMooABQRERFJGQWAIiIiIimjAFBEREQkZRQAioiIiKSMAkARERGRlFEAKCIiIpIyCgBFRERE\nUkYBoIiIiEjKKAAUERERSRkFgCIiIiIpowBQREREJGUUAIqIiIikjAJAERERkZRRACgiIiKSMgoA\nRURERFJGAaCIiIhIyigAFBEREUkZBYAiIiIiKaMAUERERCRlChYAmllPM3vPzOaZWf8c8y80s5lm\n9raZFZvZ4YUqm4iIiEiaFCQANLNawAPAScChwPlmdmhWsg+BY9y9LfBbYEghyiYiIiKSNoWqAewE\nzHP3D9z9O2A4cHoygbsXu/vX8e1koFmByiYiIiKSKoUKAPcFPk68XxinleUy4B+5ZphZHzObZmbT\nFi9eXIVFFBEREUmHrW4QiJkdSwgAf5FrvrsPcfcidy9q2rRpYQsnIiIish2oXaD1fAI0T7xvFqeV\nYmbtgEeAk9x9SYHKJiIiIpIqhaoBnAq0MrOWZrYjcB4wOpnAzPYD/gZc7O7vF6hcIiIiIqlTkBpA\nd19nZv2Al4BawFB3f9fM+sb5g4FbgSbAg2YGsM7diwpRPhEREZE0KVQTMO4+BhiTNW1w4v/LgcsL\nVR4RERGRtNrqBoGIiIiISPVSACgiIiKSMgoARURERFJGAaCIiIhIyigAFBEREUkZBYAiIiIiKaMA\nUERERCRlFACKiIiIpIwCQBEREZGUUQAoIiIikjIKAEVERERSRgGgiIiISMooABQRERFJGQWAIiIi\nIimjAFBEREQkZRQAioiIiKSMAkARERGRlFEAKCIiIpIyCgBFREREUkYBoIiIiEjKKAAUERERSRkF\ngCIiIiIpowBQREREJGUUAIqIiIikTO2aLkAh2aOPVmPuvasx762HX+I1XQQRERHZQqoBFBEREUkZ\nBYAiIiIiKZOqJmCRyrBHraaLUBBq1hcRSR/VAIqIiIikjAJAERERkZRRE7CIpEJamvRBzfoiUjHV\nAIqIiIikjGoARURkm5SWWl3V6Ep1UA2giIiISMooABQRERFJGQWAIiIiIilTsADQzHqa2XtmNs/M\n+ueY39rMJpnZGjO7sVDlEhEREUmbggwCMbNawAPA8cBCYKqZjXb3WYlkXwHXAGcUokwiIiIiaVWo\nGsBOwDx3/8DdvwOGA6cnE7j7InefCqwtUJlEREREUqlQAeC+wMeJ9wvjtEozsz5mNs3Mpi1evLhK\nCiciIiKSJtvccwDdfQgwBKCoqEgPRxIREdkOpOW5jrB1PNuxUDWAnwDNE++bxWkiIiIiUmCFCgCn\nAq3MrKWZ7QicB4wu0LpFREREJKEgTcDuvs7M+gEvAbWAoe7+rpn1jfMHm9lewDRgF2CDmV0HHOru\n3xaijCIiIiJpUbA+gO4+BhiTNW1w4v/PCU3DIiIiIlKN9EsgIiIiIimjAFBEREQkZRQAioiIiKSM\nAkARERGRlFEAKCIiIpIyCgBFREREUkYBoIiIiEjKKAAUERERSRkFgCIiIiIpowBQREREJGUUAIqI\niIikjAJAERERkZRRACgiIiKSMgoARURERFJGAaCIiIhIyigAFBEREUkZBYAiIiIiKaMAUERERCRl\nFACKiIiIpIwCQBEREZGUUQAoIiIikjIKAEVERERSRgGgiIiISMooABQRERFJGQWAIiIiIimjAFBE\nREQkZRQAioiIiKSMAkARERGRlFEAKCIiIpIyCgBFREREUkYBoIiIiEjKKAAUERERSRkFgCIiIiIp\nowBQREREJGUUAIqIiIikjAJAERERkZRRACgiIiKSMgULAM2sp5m9Z2bzzKx/jvlmZoPi/Jlm1qFQ\nZRMRERFJk4IEgGZWC3gAOAk4FDjfzA7NSnYS0Cq++gB/KkTZRERERNKmUDWAnYB57v6Bu38HDAdO\nz0pzOvCYB5OBxma2d4HKJyIiIpIatQu0nn2BjxPvFwJH5ZFmX+CzZCIz60OoIQRYbmbvVW1Rt0q7\nA1/WdCEArLfVdBG2F9qn2x/t0+2L9uf2Jy37dP98EhUqAKwy7j4EGFLT5SgkM5vm7kU1XQ6pOtqn\n2x/t0+2L9uf2R/u0tEI1AX8CNE+8bxanVTaNiIiIiGyhQgWAU4FWZtbSzHYEzgNGZ6UZDfw4jgbu\nDHzj7p9lZyQiIiIiW6YgTcDuvs7M+gEvAbWAoe7+rpn1jfMHA2OAk4F5wErg0kKUbRuRqibvlNA+\n3f5on25ftD+3P9qnCebuNV0GERERESkg/RKIiIiISMooABQRERFJGQWANcDM9jGzkfH/9mZ2ch7L\n9DCz56to/UVmNqgq8pKNqnq/mtl4M9MjC0Rku2Nmvc3s/irO84zkr4yZ2e1m9sOqXMf2RAFgDXD3\nT9397Pi2PWHwSyHXP83drynkOtOgpvdrTSjEzUz2SX1L020uM1tgZq9lTZthZu9UQd5jzKxxJdJX\n6uJpZqfl+g12ke3MGYSfmwXA3W9195drsDxbNQWAm8HMfmxmM83sLTN73MxONbN/m9mbZvayme0Z\n090W508ys7lmdkWc3sLM3omPxLkd6BUvJL3MrFNM/6aZFZvZwXmU52Qzm2Nm081sUObiWlZeyQtw\nLOPQWNv0gZmlNjDc2vZrVtnON7O3Y/53x2m1zGxYnPa2mV0fp19jZrPiZxletVupVJlqFyjoLXVS\nr4J0W6KhmTUHMLNDKruwmdXOem9mtoO7n+zuS6uqkNncfbS731Vd+W+rzOy5eN5818KvTGFml5nZ\n+2Y2xcwezgTaZtbUzEaZ2dT46lazpd+6mdlFcRvOMLOH4vnq0sy2Bbol0g4zs7MT75cn/v9FPL+9\nZWZ3xWlXxH3wVtwn9c2sK3AacE9c54HJfM3sB/H8+3a85u0Upy8ws9+Y2RtxXusyPk/OdPF6cGMi\n3TvxWtAiXpeHxc/8pJn90MwmxutGpyrd4JvD3fWqxAtoA7wP7B7f7wbsysYR1ZcDf4j/3wa8BdQj\n/ATNx8A+QAvgnZimN3B/Iv9dgNrx/x8Co+L/PYDnc5Snbsy3ZXz/dCZdPnnFMhYDO8UyLgHq1PR2\nTvt+jfPGA0Ux7/8ATQmPbvoXIdg5EvhnIn3j+PdTYKfktESaFsAcYFj8vE/G8kwE5gKdYrpOwCTg\nzXh8HJz4XKNjGV7NfGZgx1jGxcAMoFc5eZT3me8CZgEzgQFAV+Ar4MOY74HAFYRni74FjALql5Fu\nPFAU890dWJDY11NiuplAqzyPkQXALcCN8f3twC8S+7wF8BrwRnx1TXze1+J2ez+mew94DHiX8LNN\nC9h47F2UKN9DQK04/dK4/BTgYRLHV1Y5e8b1vwW8kjwegUbAR8AOcfrOhOO3TlYeOwMvxDzeAXol\ntsH/AG/Hcnwv8dn/FbfnK8B+cfow4OxEvsvj372BCfEzvgMcHaefQDhm3gBGAA2q+Xu/W/xbL5Zj\n3/gZdwPqxP12f0zzFPD9+P9+wOyaPm9trS/gEOD/MscV8CBwCRvPYzsSzjmZbVvWcXIS4dxRP2t/\nNUmkvQP4WRn5DAPOZuN18qA4/THgusQxnVn+KuCRMj5TznSE68GNiXTvxO9DC2Ad0JZQ2TYdGAoY\ncDrwXE3vp23up+C2AscBI9z9SwB3/8rM2gJ/NbO9CQf2h4n0f3f3VcAqMxtHuCjOKCf/RsCjZtYK\ncMJJqDytgQ/cPbPOp9n4W8n55vWCu68B1pjZImBPwm8xp8nWtl+TOgLj3X0xgJk9CXQHfgscYGb3\nES7WY2P6mcCTZvYc8FyO/L4HnAP8hBBIXQB8n3D3fAshuJxDuCivs9CH5nfAWXH5DkC7uI1aALj7\nd2Z2KyHg6hfLuUs5eWzCzJoAZwKt3d3NrLG7LzWz0YSAMdPUvNTdH47/3wFc5u735UhX1qr6Ave6\n+5OxtrZWWQlzGAX8hRCcngpcCFwc5y0Cjnf31XE/P00I4DPb7DB3/zBus1bAJe4+OVnWWKvYC+jm\n7mvN7EHgQjP7J/AbQtD/DTCOEFhnb8OmhOCwe1zXbsn57v6Nmc0Ajol5nAK85O5rs7LqCXzq7j+K\n+TZKzPvG3dua2Y+BgTGP+4BH3f1RM/sJMIhwHJXlgrjeO82sFlDfzHYHfgn80N1XmNkvgJ8TAu3q\nco2ZnRn/b07Yl6+6+1cAZjYCOCjO/yFwaOK42sXMGrj7ciTbDwjH6tS4veoRbtKS57G/snHbluWH\nwF/cfSWE83Kcflj87jcGGhCeMVyeg4EP3f39+P5R4GrC8Qvwt/h3OvBf5eSTb7qMD939bQAze5dw\nQ+Zm9jYhQKxRagKuGvcR7mTaAj8l3G1kZD9osaIHL/4WGOfuhxEuMHWzE5jZS7GK+5EtzStak/h/\nPdvgb0RXk611v4YVun8NHE6o6eoLZJb7EfAAIeiYalnNjsSTkrtvINRAveLh1jV5UmoEjLDQv+2P\nhFqzjH8mTsTlKS+PXL4BVgN/NrP/IjwQPpfDzOy1eBK9MI98s00CbokBxv4xkM/XEuBrMzsPmJ1V\nxjrAw7FcIyjdHD0lcZMG8FEm+MuSvHDOiO8PAI4iXjzd/Tvgr2WUrzMwIbOuMvbTXwlBJoRfZcqV\n19vA8WZ2t5kd7e7fJOY9nfjbJf7fhVBDBvA44YaiPFOBS83sNqCtuy+LZT8UmBg/+yXk+aP2m8PM\nehACjC7ufjghoJ5TziI7AJ3dvX187avgr0xGuCHIbKuDCTVlZVlHjEfMbAfCDXd5hgH94rn5N5R9\nbctX5hpYcv0r43y8Sbpk2aO6OdIDbEi838BWcJ1VAFh5/wLOibUVxDvsRmz83eJLstKfbmZ1Y/oe\nhBNf0jKgYeJ9Mq/euQrg7ifGL9XlhKakAzI1MWw8seeVl5TY2vZr0hTgGDPbPdaWnA+8GmtMdnD3\nUYSakw7x5Nnc3ccRmicbEe6Qk/I5KZUXsK7IVf4cKhX0uvs6Qk3qSEKt0otl5DuM/E7+yRNzSRp3\nf4pQ27kKGGNmx+X5eTL+Sgiwn86afj3wBSEoL6L0RSx7m5W1DTe5cLr7bWUVxEK/qhnxlW9N2Wig\nZzzGjwT+ZWbNE/n0jTUlHQiB4B2xdjfDy/g/l5wXdnefQKjF/gQYFmsTjXBzkfnsh7r7ZXl+ps3R\nCPja3VfG/lydCU3fx5jZrvHGKVljPRb4WeaNmbWvxrJt614BzjazPaDkfPomYds2MbM6hFaIjAWE\nYxHCdzPTQvJPwo1C/UQ+EM6tn8V8Lkzkk33ezXgPaGFm34vvLyZ0YSlTOefjbAsI3xXMrAPQsoL0\nWw0FgJXk7u8CdxIuwG8B/0u4sxlhZtOBL7MWmUloapkM/NbdP82aP47QrDDDzHoR+tf83szeJI87\nhFh7cRXwYlz/MkJNCpXNK822tv2aVbbPgP4xz7eA6e7+d0J/pfGxtuQJ4GZCc+YTsRbqTWCQb97g\ngs25ediioNfMGgCN3H0MIZg6vIx88z35L2DjRSXZwfwAQreJQcDfgXZ5fr6MZwn7M7vZqRHwWaxZ\nvZjKNS1nbHLhNLP9gX+T4+Lp7usTAdOthOOxu5m1zCyfvYJYazUVuJfQZL7e3T9O5DPYzPYBVrr7\nE8A9xAtc1Cvxd1L8v5hQmwhhn2RGSy8gx4U9fqYvYlP+IzH/yUC3zEXazHY2s4qaCLfEi0BtM5tN\n6Hs6mXC8/o5w0zUxlj9zPr0GKLIwuGoWodZdcnD3WYSb0rFmNpMQyO1NOKdOImzb2YlFHiYc328R\napNXxHxeJNywTIvnucxgi18RvhMTKV1rOxy4ycJgjwMT5VlN6EM7Ip4bNwCDq+jjjgJ2i028/Qj9\ndLcNvhV0GN1eX2R1Dq3G9TSIf43Q2fb6mv7s2/OrUPu1msregjhoIb4fRuw0TelBLF0IJ7I3CZ2s\nF8TpvSk9uCW5zG6EwCIzCKSsPHqQe0DT3oQL70xCzdMlcXo3wsCQNwmDO64k9MecQmimH1ZGutYx\nr+z19yc0fc8gBAG75bntFhAHapTx+VvF9b0F3M3GjuylPm/2PsjOO267zACV6YRmRyg9CGQIZQ8C\nOSl+5reIg4Ry7LezCbV3x5SRx4lx/TPiPi1KlPPuOG8qGweB7E/uQSB7EgKr7G1yCaGz/JuEYDEz\niO24mO/M+DqtBr4jmfNpbcJAhjNr+nurl17V8dJvAVej2L9lubsPqOb1XE84oe5IOKFe4bHTrFS9\nQukEcmEAAAL8SURBVO1Xka2NmS0gBIPZNeLbDTMbQOgbWJfQ7Hut60Ip2yEFgCIikpc0BIAiaaEA\nUERSLQ7keSXHrB+4+5JCl0dEpBAUAIqIiIikjEYBi4iIiKSMAkARERGRlFEAKCIiIpIyCgBFJFXM\nbIGZrTKz5YnXPluQXw8zS9tvZ4vINk4BoIik0anu3iDxyv4ll4LJ8VvNIiLVTgGgiAhgZp3NrNjM\nlprZW2bWIzHvUjObbWbLzOwDM/tpnL4z8A9gn2Rtov3/9u4l1KYwDOP4/3Fn4IiUUEaMDKTO0EiR\nW0wUkpmpTKRMlMyVgQkDRYk65RITSjKTgTIx4ahdyqUonZTba7CWWk47J+fIwPr/Rnuv/X1935o9\n+13r600uJjndmf9LlbCtQh5v22RNJJnTzhtL8jbJeJIj/+7uJfWNAVBS7yVZBdymaRm3lKbn6FiS\n5e2QN8BOYDFNS7YzSTZW1QRN67VX06gm7gd2AEtoepPeommZtgrYDBxNsvWv3KAkTWIAlNRH19tK\n34ck14GDwJ2qulNV36vqLvAY2A5QVber6nk1HtC0CNs0wz2crapBVX0CRoHlVXWqqj5X1QvgPLBv\nhmtI0lC+eyKpj/ZU1b2fX5KcA/Ym2dUZMxe43/6+DTgJrKP547wIeDrDPQw6n9fQPEb+0Lk2G3g4\nwzUkaSgDoCQ1YexSVR2e/EOS+cAYcAi4UVVf2qph2iHD2ilN0ITEn1YMGdOdNwDGq2rtdDYvSX/K\nR8CSBJeBXUm2JpmdZEF7cGM1MA+YD7wFvrbVwC2dua+BZUlGOteeANuTLE2yAjg6xfqPgI/twZCF\n7R7WJxn9a3coSR0GQEm9V1UDYDdwgiboDYBjwKyq+ggcAa4B74EDwM3O3GfAFeBF+07hSuASzYGO\nlzTvC16dYv1vNIdMNgDjwDvgAjDyu3mSNF2pGvb0QpIkSf8rK4CSJEk9YwCUJEnqGQOgJElSzxgA\nJUmSesYAKEmS1DMGQEmSpJ4xAEqSJPWMAVCSJKlnfgBvRL4ZS/IG9gAAAABJRU5ErkJggg==\n",
      "text/plain": [
       "<matplotlib.figure.Figure at 0x7ff77a9b3550>"
      ]
     },
     "metadata": {},
     "output_type": "display_data"
    }
   ],
   "source": [
    "# TODO: Import a supervised learning model that has 'feature_importances_'\n",
    "from sklearn.ensemble import GradientBoostingClassifier\n",
    "\n",
    "# TODO: Train the supervised model on the training set using .fit(X_train, y_train)\n",
    "model = GradientBoostingClassifier(learning_rate=0.1).fit(X_train, y_train)\n",
    "\n",
    "# TODO: Extract the feature importances using .feature_importances_ \n",
    "importances = model.feature_importances_\n",
    "\n",
    "# Plot\n",
    "vs.feature_plot(importances, X_train, y_train)"
   ]
  },
  {
   "cell_type": "markdown",
   "metadata": {},
   "source": [
    "conclution\n",
    "\n",
    "1. most importasnt feature is the capital-gain, which means the person is not living on his salary.\n",
    "2. the second one is the capital-loss, this also means the person live on his capital although he may lost a lot of money.\n",
    "3. married status civ spouse means that the person married a normal civilization, which is the most common status.\n",
    "4. age should be the one that control the income salary and capital earn.\n",
    "5. education-num means the years spend in school, as we can see, although it is important but is not enough compared to the others."
   ]
  },
  {
   "cell_type": "markdown",
   "metadata": {},
   "source": [
    "### Question 7 - Extracting Feature Importance\n",
    "\n",
    "Observe the visualization created above which displays the five most relevant features for predicting if an individual makes at most or above \\$50,000.  \n",
    "* How do these five features compare to the five features you discussed in **Question 6**?\n",
    "* If you were close to the same answer, how does this visualization confirm your thoughts? \n",
    "* If you were not close, why do you think these features are more relevant?"
   ]
  },
  {
   "cell_type": "markdown",
   "metadata": {},
   "source": [
    "**Answer:**\n",
    "\n",
    "* almost the same.\n",
    "* The richest are the ones who owns a lot of resources, named capital, wealthy can be generated automaticly during that process."
   ]
  },
  {
   "cell_type": "markdown",
   "metadata": {},
   "source": [
    "### Feature Selection\n",
    "How does a model perform if we only use a subset of all the available features in the data? With less features required to train, the expectation is that training and prediction time is much lower — at the cost of performance metrics. From the visualization above, we see that the top five most important features contribute more than half of the importance of **all** features present in the data. This hints that we can attempt to *reduce the feature space* and simplify the information required for the model to learn. The code cell below will use the same optimized model you found earlier, and train it on the same training set *with only the top five important features*. "
   ]
  },
  {
   "cell_type": "code",
   "execution_count": 82,
   "metadata": {},
   "outputs": [
    {
     "name": "stdout",
     "output_type": "stream",
     "text": [
      "Final Model trained on full data\n",
      "------\n",
      "Accuracy on testing data: 0.8630\n",
      "F-score on testing data: 0.7395\n",
      "\n",
      "Final Model trained on reduced data\n",
      "------\n",
      "Accuracy on testing data: 0.8589\n",
      "F-score on testing data: 0.7339\n"
     ]
    }
   ],
   "source": [
    "# Import functionality for cloning a model\n",
    "from sklearn.base import clone\n",
    "\n",
    "# Reduce the feature space\n",
    "X_train_reduced = X_train[X_train.columns.values[(np.argsort(importances)[::-1])[:5]]]\n",
    "X_test_reduced = X_test[X_test.columns.values[(np.argsort(importances)[::-1])[:5]]]\n",
    "\n",
    "# Train on the \"best\" model found from grid search earlier\n",
    "clf = (clone(best_clf)).fit(X_train_reduced, y_train)\n",
    "\n",
    "# Make new predictions\n",
    "reduced_predictions = clf.predict(X_test_reduced)\n",
    "\n",
    "# Report scores from the final model using both versions of data\n",
    "print(\"Final Model trained on full data\\n------\")\n",
    "print(\"Accuracy on testing data: {:.4f}\".format(accuracy_score(y_test, best_predictions)))\n",
    "print(\"F-score on testing data: {:.4f}\".format(fbeta_score(y_test, best_predictions, beta = 0.5)))\n",
    "print(\"\\nFinal Model trained on reduced data\\n------\")\n",
    "print(\"Accuracy on testing data: {:.4f}\".format(accuracy_score(y_test, reduced_predictions)))\n",
    "print(\"F-score on testing data: {:.4f}\".format(fbeta_score(y_test, reduced_predictions, beta = 0.5)))"
   ]
  },
  {
   "cell_type": "markdown",
   "metadata": {},
   "source": [
    "### Question 8 - Effects of Feature Selection\n",
    "\n",
    "* How does the final model's F-score and accuracy score on the reduced data using only five features compare to those same scores when all features are used?\n",
    "* If training time was a factor, would you consider using the reduced data as your training set?"
   ]
  },
  {
   "cell_type": "code",
   "execution_count": 83,
   "metadata": {},
   "outputs": [
    {
     "name": "stdout",
     "output_type": "stream",
     "text": [
      "CPU times: user 8 ms, sys: 0 ns, total: 8 ms\n",
      "Wall time: 8.05 ms\n"
     ]
    },
    {
     "data": {
      "text/plain": [
       "array([0, 0, 0, ..., 0, 0, 1])"
      ]
     },
     "execution_count": 83,
     "metadata": {},
     "output_type": "execute_result"
    }
   ],
   "source": [
    "%time clf.predict(X_test_reduced)"
   ]
  },
  {
   "cell_type": "markdown",
   "metadata": {},
   "source": [
    "**Answer:**\n",
    "\n",
    "* On the reduced dataset the score is less than the full data size.\n",
    "\n",
    "That's mainly because the modle has less comlexity so that it loose some information while trainning.\n",
    "\n",
    "But compared to the time decline, it is worthwhile to use the reduced dataset."
   ]
  },
  {
   "cell_type": "markdown",
   "metadata": {},
   "source": [
    "> **Note**: Once you have completed all of the code implementations and successfully answered each question above, you may finalize your work by exporting the iPython Notebook as an HTML document. You can do this by using the menu above and navigating to  \n",
    "**File -> Download as -> HTML (.html)**. Include the finished document along with this notebook as your submission."
   ]
  }
 ],
 "metadata": {
  "kernelspec": {
   "display_name": "Python 3",
   "language": "python",
   "name": "python3"
  },
  "language_info": {
   "codemirror_mode": {
    "name": "ipython",
    "version": 3
   },
   "file_extension": ".py",
   "mimetype": "text/x-python",
   "name": "python",
   "nbconvert_exporter": "python",
   "pygments_lexer": "ipython3",
   "version": "3.6.1"
  }
 },
 "nbformat": 4,
 "nbformat_minor": 1
}
